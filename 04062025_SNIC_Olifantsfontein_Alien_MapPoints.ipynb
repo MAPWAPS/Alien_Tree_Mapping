{
  "cells": [
    {
      "cell_type": "markdown",
      "metadata": {
        "id": "view-in-github",
        "colab_type": "text"
      },
      "source": [
        "<a href=\"https://colab.research.google.com/github/MAPWAPS/Alien_Tree_Mapping/blob/main/04062025_SNIC_Olifantsfontein_Alien_MapPoints.ipynb\" target=\"_parent\"><img src=\"https://colab.research.google.com/assets/colab-badge.svg\" alt=\"Open In Colab\"/></a>"
      ]
    },
    {
      "cell_type": "markdown",
      "id": "00c5b6ae-ef2d-44e7-b25f-4d1ca3d03a51",
      "metadata": {
        "id": "00c5b6ae-ef2d-44e7-b25f-4d1ca3d03a51"
      },
      "source": [
        "### This notebook uses Sentinel-2 imagery to map invasive alien trees in the Olifants-Doring catchment using SNIC and the Random Forest classiifer."
      ]
    },
    {
      "cell_type": "markdown",
      "id": "38a474c5-3124-4454-9352-38066ee52419",
      "metadata": {
        "id": "38a474c5-3124-4454-9352-38066ee52419"
      },
      "source": [
        "### Authenticate GEE and load the required datasets"
      ]
    },
    {
      "cell_type": "code",
      "execution_count": null,
      "id": "4240d2d7-cf27-4e89-bd31-1d33fe6a4ddf",
      "metadata": {
        "id": "4240d2d7-cf27-4e89-bd31-1d33fe6a4ddf"
      },
      "outputs": [],
      "source": [
        "########Import necessary python libraries###################################################################################\n",
        "import ee\n",
        "import geemap\n",
        "import datetime\n",
        "\n",
        "####Authenticate and initialize Earth Engine############################################################################################\n",
        "ee.Authenticate()\n",
        "# Initialize the library.\n",
        "ee.Initialize(project='thandeka-skosana')\n",
        "\n",
        "#############Define the paths of you=r training data as well as AOI, exlc B1, B9, B10####################################\n",
        "trainDAT = ee.FeatureCollection(\"projects/olifantsdoringproject/assets/06052025_trainingdata\")\n",
        "aoi = ee.FeatureCollection(\"projects/olifantsdoringproject/assets/Olifants_Doring_Catchment\")\n",
        "\n",
        "############Compute Sentinel-2 Median Composite for you time period using cloud-free scenes#############\n",
        "image = ee.ImageCollection(\"COPERNICUS/S2_SR_HARMONIZED\") \\\n",
        "    .filterBounds(aoi) \\\n",
        "    .filterDate(\"2025-05-08\", \"2025-05-21\") \\\n",
        "    .filter(ee.Filter.lt(\"CLOUDY_PIXEL_PERCENTAGE\", 10)) \\\n",
        "    .median() \\\n",
        "    .select(['B2', 'B3', 'B4', 'B5', 'B6', 'B7','B8','B8A', 'B11', 'B12']) \\\n",
        "    .clip(aoi)\n"
      ]
    },
    {
      "cell_type": "code",
      "execution_count": null,
      "id": "knIF5jEE7V-T",
      "metadata": {
        "colab": {
          "base_uri": "https://localhost:8080/",
          "height": 146
        },
        "id": "knIF5jEE7V-T",
        "outputId": "1ab7a359-0c64-44f5-c5d4-482389239bad"
      },
      "outputs": [
        {
          "output_type": "display_data",
          "data": {
            "text/plain": [
              "<IPython.core.display.HTML object>"
            ],
            "text/html": [
              "\n",
              "            <style>\n",
              "                .geemap-dark {\n",
              "                    --jp-widgets-color: white;\n",
              "                    --jp-widgets-label-color: white;\n",
              "                    --jp-ui-font-color1: white;\n",
              "                    --jp-layout-color2: #454545;\n",
              "                    background-color: #383838;\n",
              "                }\n",
              "\n",
              "                .geemap-dark .jupyter-button {\n",
              "                    --jp-layout-color3: #383838;\n",
              "                }\n",
              "\n",
              "                .geemap-colab {\n",
              "                    background-color: var(--colab-primary-surface-color, white);\n",
              "                }\n",
              "\n",
              "                .geemap-colab .jupyter-button {\n",
              "                    --jp-layout-color3: var(--colab-primary-surface-color, white);\n",
              "                }\n",
              "            </style>\n",
              "            "
            ]
          },
          "metadata": {}
        },
        {
          "output_type": "stream",
          "name": "stderr",
          "text": [
            "/usr/local/lib/python3.11/dist-packages/ee/deprecation.py:207: DeprecationWarning: \n",
            "\n",
            "Attention required for JAXA/ALOS/AW3D30/V3_2! You are using a deprecated asset.\n",
            "To make sure your code keeps working, please update it.\n",
            "Learn more: https://developers.google.com/earth-engine/datasets/catalog/JAXA_ALOS_AW3D30_V3_2\n",
            "\n",
            "  warnings.warn(warning, category=DeprecationWarning)\n"
          ]
        }
      ],
      "source": [
        "###########Adding ALOS datasets###########\n",
        "# ALOS Landform (JAXA)\n",
        "landform = ee.Image('CSP/ERGo/1_0/Global/ALOS_landforms').select('constant')\n",
        "\n",
        "# ALOS DSM Elevation\n",
        "elevation = ee.ImageCollection('JAXA/ALOS/AW3D30/V3_2').mosaic().select('DSM')\n",
        "\n",
        "terrain_bands = [elevation, landform]\n",
        "\n",
        "#add biome\n",
        "biomes = ee.Image('projects/olifantsdoringproject/assets/Biomes_OD')\n",
        "biome_band= biomes.select('b1').rename('biome');"
      ]
    },
    {
      "cell_type": "markdown",
      "source": [
        "### Calculate indices"
      ],
      "metadata": {
        "id": "AWFLoenlcqLs"
      },
      "id": "AWFLoenlcqLs"
    },
    {
      "cell_type": "code",
      "execution_count": null,
      "id": "h8zsWYj99THj",
      "metadata": {
        "colab": {
          "base_uri": "https://localhost:8080/",
          "height": 17
        },
        "id": "h8zsWYj99THj",
        "outputId": "614fdf49-87df-4656-f36e-42e6e4168951"
      },
      "outputs": [
        {
          "output_type": "display_data",
          "data": {
            "text/plain": [
              "<IPython.core.display.HTML object>"
            ],
            "text/html": [
              "\n",
              "            <style>\n",
              "                .geemap-dark {\n",
              "                    --jp-widgets-color: white;\n",
              "                    --jp-widgets-label-color: white;\n",
              "                    --jp-ui-font-color1: white;\n",
              "                    --jp-layout-color2: #454545;\n",
              "                    background-color: #383838;\n",
              "                }\n",
              "\n",
              "                .geemap-dark .jupyter-button {\n",
              "                    --jp-layout-color3: #383838;\n",
              "                }\n",
              "\n",
              "                .geemap-colab {\n",
              "                    background-color: var(--colab-primary-surface-color, white);\n",
              "                }\n",
              "\n",
              "                .geemap-colab .jupyter-button {\n",
              "                    --jp-layout-color3: var(--colab-primary-surface-color, white);\n",
              "                }\n",
              "            </style>\n",
              "            "
            ]
          },
          "metadata": {}
        }
      ],
      "source": [
        "def add_indices(image):\n",
        "    # 1. Normalized Difference Vegetation Index (NDVI)\n",
        "    NDVI = image.expression('(NIR - RED) / (NIR + RED)', {\n",
        "        'NIR': image.select('B8'),\n",
        "        'RED': image.select('B4')\n",
        "    }).rename('NDVI')\n",
        "\n",
        "    # 2. Chlorophyll Green Index (Chlogreen)\n",
        "    Chlogreen = image.expression('(NIRnarrow) / (Green + REDedge1)', {\n",
        "        'NIRnarrow': image.select('B8A'),\n",
        "        'Green': image.select('B3'),\n",
        "        'REDedge1': image.select('B5')\n",
        "    }).rename('Chlogreen')\n",
        "\n",
        "    # 3. Leaf Anthocyanin Content Index (LAnthoC)\n",
        "    LAnthoC = image.expression('(REDedge3) / (Green + REDedge1)', {\n",
        "        'REDedge3': image.select('B7'),\n",
        "        'Green': image.select('B3'),\n",
        "        'REDedge1': image.select('B5')\n",
        "    }).rename('LAnthoC')\n",
        "\n",
        "    # 4. Leaf Chlorophyll Content Index (LChloC)\n",
        "    LChloC = image.expression('(REDedge3) / (REDedge1)', {\n",
        "        'REDedge3': image.select('B7'),\n",
        "        'REDedge1': image.select('B5')\n",
        "    }).rename('LChloC')\n",
        "\n",
        "    # 5. Leaf Carotenoid Content Index (LCaroC)\n",
        "    LCaroC = image.expression('(REDedge3) / (Blue - REDedge1)', {\n",
        "        'REDedge3': image.select('B7'),\n",
        "        'Blue': image.select('B2'),\n",
        "        'REDedge1': image.select('B5')\n",
        "    }).rename('LCaroC')\n",
        "\n",
        "    # 6. Bare Soil Index (BAI)\n",
        "    BAI = image.expression('(Blue - NIR) / (Blue + NIR)', {\n",
        "        'Blue': image.select('B2'),\n",
        "        'NIR': image.select('B8')\n",
        "    }).rename('BAI')\n",
        "\n",
        "    # 7. Greenness Index (GI)\n",
        "    GI = image.expression('(Green / Red)', {\n",
        "        'Green': image.select('B3'),\n",
        "        'Red': image.select('B4')\n",
        "    }).rename('GI')\n",
        "\n",
        "    # 8. Green NDVI (gNDVI)\n",
        "    gNDVI = image.expression('(NIR - Green) / (NIR + Green)', {\n",
        "        'Green': image.select('B3'),\n",
        "        'NIR': image.select('B8')\n",
        "    }).rename('gNDVI')\n",
        "\n",
        "    # 9. Moisture Stress Index (MSI)\n",
        "    MSI = image.expression('(SWIR1 / NIR)', {\n",
        "        'SWIR1': image.select('B11'),\n",
        "        'NIR': image.select('B8')\n",
        "    }).rename('MSI')\n",
        "\n",
        "    # 10. Normalized Difference Red Edge and SWIR (NDrededgeSWIR)\n",
        "    NDrededgeSWIR = image.expression('(Rededge2 - SWIR2) / (Rededge2 + SWIR2)', {\n",
        "        'Rededge2': image.select('B6'),\n",
        "        'SWIR2': image.select('B12')\n",
        "    }).rename('NDrededgeSWIR')\n",
        "\n",
        "    # 11. Normalized Difference Tillage Index (NDTI)\n",
        "    NDTI = image.expression('(SWIR1 - SWIR2) / (SWIR1 + SWIR2)', {\n",
        "        'SWIR1': image.select('B11'),\n",
        "        'SWIR2': image.select('B12')\n",
        "    }).rename('NDTI')\n",
        "\n",
        "    # 12. Red Edge NDVI (NDVIre)\n",
        "    NDVIre = image.expression('(NIR - Rededge1) / (NIR + Rededge1)', {\n",
        "        'NIR': image.select('B8'),\n",
        "        'Rededge1': image.select('B5')\n",
        "    }).rename('NDVIre')\n",
        "\n",
        "    # 13. NDVI Variant 1 (NDVI1)\n",
        "    NDVI1 = image.expression('(NIR - SWIR1) / (NIR + SWIR1)', {\n",
        "        'NIR': image.select('B8'),\n",
        "        'SWIR1': image.select('B11')\n",
        "    }).rename('NDVI1')\n",
        "\n",
        "    # 14. NDVI Variant 2 (NDVI2)\n",
        "    NDVI2 = image.expression('(Green - NIR) / (Green + NIR)', {\n",
        "        'NIR': image.select('B8'),\n",
        "        'Green': image.select('B3')\n",
        "    }).rename('NDVI2')\n",
        "\n",
        "    # 15. Enhanced Vegetation Index (EVI)\n",
        "    EVI = image.expression('2.5 * ((NIR - Red) / (NIR + 6 * Red - 7.5 * Blue + 1))', {\n",
        "        'NIR': image.select('B8'),\n",
        "        'Red': image.select('B4'),\n",
        "        'Blue': image.select('B2')\n",
        "    }).rename('EVI')\n",
        "\n",
        "    # 16. Enhanced Vegetation Index 2 (EVI2)\n",
        "    EVI2 = image.expression('2.4 * ((NIR - Red) / (NIR + Red + 1))', {\n",
        "        'NIR': image.select('B8'),\n",
        "        'Red': image.select('B4')\n",
        "    }).rename('EVI2')\n",
        "\n",
        "    # 17. Normalized Green Reflectance (Norm_G)\n",
        "    Norm_G = image.expression('(Green) / (NIRwide + Red + Green)', {\n",
        "        'NIRwide': image.select('B8'),\n",
        "        'Green': image.select('B3'),\n",
        "        'Red': image.select('B4')\n",
        "    }).rename('Norm_G')\n",
        "\n",
        "    # 18. Normalized NIR Reflectance (Norm_NIR)\n",
        "    Norm_NIR = image.expression('(NIRwide) / (NIRwide + Red + Green)', {\n",
        "        'NIRwide': image.select('B8'),\n",
        "        'Green': image.select('B3'),\n",
        "        'Red': image.select('B4')\n",
        "    }).rename('Norm_NIR')\n",
        "\n",
        "    # 19. Normalized Red Reflectance (Norm_Red)\n",
        "    Norm_Red = image.expression('(Red) / (NIRwide + Red + Green)', {\n",
        "        'NIRwide': image.select('B8'),\n",
        "        'Green': image.select('B3'),\n",
        "        'Red': image.select('B4')\n",
        "    }).rename('Norm_Red')\n",
        "\n",
        "    # 20. Red Edge Peak Area\n",
        "    RededgePeakArea = image.expression('(Red + Rededge1 + Rededge2 + Rededge3 + NIRnarrow)', {\n",
        "        'NIRnarrow': image.select('B8A'),\n",
        "        'Rededge1': image.select('B5'),\n",
        "        'Rededge2': image.select('B6'),\n",
        "        'Rededge3': image.select('B7'),\n",
        "        'Red': image.select('B4')\n",
        "    }).rename('RededgePeakArea')\n",
        "\n",
        "    # 21. Red - SWIR1 Index (RedSWIR1)\n",
        "    RedSWIR1 = image.expression('(Red - SWIR)', {\n",
        "        'SWIR': image.select('B11'),\n",
        "        'Red': image.select('B4')\n",
        "    }).rename('RedSWIR1')\n",
        "\n",
        "    # 22. Simple Ratio Blue / Red Edge 2 (SRBlueRededge2)\n",
        "    SRBlueRededge2 = image.expression('(Blue / Rededge2)', {\n",
        "        'Blue': image.select('B2'),\n",
        "        'Rededge2': image.select('B6')\n",
        "    }).rename('SRBlueRededge2')\n",
        "\n",
        "    # 23. Simple Ratio Blue / Red Edge 3 (SRBlueRededge3)\n",
        "    SRBlueRededge3 = image.expression('(Blue / Rededge3)', {\n",
        "        'Blue': image.select('B2'),\n",
        "        'Rededge3': image.select('B7')\n",
        "    }).rename('SRBlueRededge3')\n",
        "\n",
        "    # 24. Simple Ratio NIR Narrow / Blue (SRNIRnarrowBlue)\n",
        "    SRNIRnarrowBlue = image.expression('(NIRnarrow / Blue)', {\n",
        "        'NIRnarrow': image.select('B8A'),\n",
        "        'Blue': image.select('B2')\n",
        "    }).rename('SRNIRnarrowBlue')\n",
        "\n",
        "    # 25. Simple Ratio NIR Narrow / Red (SRNIRnarrowRed)\n",
        "    SRNIRnarrowRed = image.expression('(NIRnarrow / Red)', {\n",
        "        'NIRnarrow': image.select('B8A'),\n",
        "        'Red': image.select('B4')\n",
        "    }).rename('SRNIRnarrowRed')\n",
        "\n",
        "    # 26. Simple Ratio NIR Narrow / Red Edge 3 (SRNIRnarrowRededge3)\n",
        "    SRNIRnarrowRededge3 = image.expression('(NIRnarrow / Rededge3)', {\n",
        "        'NIRnarrow': image.select('B8A'),\n",
        "        'Rededge3': image.select('B7')\n",
        "    }).rename('SRNIRnarrowRededge3')\n",
        "\n",
        "    # 27. Shortwave Trough Index (STI)\n",
        "    STI = image.expression('SWIR1 / SWIR2', {\n",
        "        'SWIR1': image.select('B11'),\n",
        "        'SWIR2': image.select('B12')\n",
        "    }).rename('STI')\n",
        "\n",
        "    # 28. Water Band Index (WBI)\n",
        "    WBI = image.expression('(Blue - Red) / (Blue + Red)', {\n",
        "        'Blue': image.select('B2'),\n",
        "        'Red': image.select('B4')\n",
        "    }).rename('WBI')\n",
        "\n",
        "    # 29. Normalized Difference Moisture Index (NDMI)\n",
        "    NDMI = image.expression('(NIR - SWIR) / (NIR + SWIR)', {\n",
        "        'NIR': image.select('B8'),\n",
        "        'SWIR': image.select('B11')\n",
        "    }).rename('NDMI')\n",
        "\n",
        "    # Return image with all added indices\n",
        "    return image.addBands([\n",
        "        NDVI, Chlogreen, LAnthoC, LChloC, LCaroC, BAI, GI, gNDVI, MSI,\n",
        "        NDrededgeSWIR, NDTI, NDVIre, NDVI1, NDVI2, EVI, EVI2,\n",
        "        Norm_G, Norm_NIR, Norm_Red, RededgePeakArea, RedSWIR1,\n",
        "        SRBlueRededge2, SRBlueRededge3, SRNIRnarrowBlue, SRNIRnarrowRed,\n",
        "        SRNIRnarrowRededge3, STI, WBI, NDMI\n",
        "    ])\n",
        "\n"
      ]
    },
    {
      "cell_type": "markdown",
      "source": [
        "### Apply SNIC"
      ],
      "metadata": {
        "id": "JZTNwIQXc4IA"
      },
      "id": "JZTNwIQXc4IA"
    },
    {
      "cell_type": "code",
      "execution_count": null,
      "id": "4afce94b-0dba-461d-9a11-5d8045451cd9",
      "metadata": {
        "colab": {
          "base_uri": "https://localhost:8080/",
          "height": 68
        },
        "id": "4afce94b-0dba-461d-9a11-5d8045451cd9",
        "outputId": "fbe6a8b4-0c5e-4574-fcab-6433442e5eb7"
      },
      "outputs": [
        {
          "output_type": "display_data",
          "data": {
            "text/plain": [
              "<IPython.core.display.HTML object>"
            ],
            "text/html": [
              "\n",
              "            <style>\n",
              "                .geemap-dark {\n",
              "                    --jp-widgets-color: white;\n",
              "                    --jp-widgets-label-color: white;\n",
              "                    --jp-ui-font-color1: white;\n",
              "                    --jp-layout-color2: #454545;\n",
              "                    background-color: #383838;\n",
              "                }\n",
              "\n",
              "                .geemap-dark .jupyter-button {\n",
              "                    --jp-layout-color3: #383838;\n",
              "                }\n",
              "\n",
              "                .geemap-colab {\n",
              "                    background-color: var(--colab-primary-surface-color, white);\n",
              "                }\n",
              "\n",
              "                .geemap-colab .jupyter-button {\n",
              "                    --jp-layout-color3: var(--colab-primary-surface-color, white);\n",
              "                }\n",
              "            </style>\n",
              "            "
            ]
          },
          "metadata": {}
        },
        {
          "output_type": "execute_result",
          "data": {
            "text/plain": [
              "<ee.image.Image at 0x79735f70db10>"
            ],
            "text/html": [
              "<div><style>:root {\n",
              "  --font-color-primary: var(--jp-content-font-color0, rgba(0, 0, 0, 1));\n",
              "  --font-color-secondary: var(--jp-content-font-color2, rgba(0, 0, 0, 0.7));\n",
              "  --font-color-accent: rgba(123, 31, 162, 1);\n",
              "  --border-color: var(--jp-border-color2, #e0e0e0);\n",
              "  --background-color: var(--jp-layout-color0, white);\n",
              "  --background-color-row-even: var(--jp-layout-color1, white);\n",
              "  --background-color-row-odd: var(--jp-layout-color2, #eeeeee);\n",
              "}\n",
              "\n",
              "html[theme=\"dark\"],\n",
              "body[data-theme=\"dark\"],\n",
              "body.vscode-dark {\n",
              "  --font-color-primary: rgba(255, 255, 255, 1);\n",
              "  --font-color-secondary: rgba(255, 255, 255, 0.7);\n",
              "  --font-color-accent: rgb(173, 132, 190);\n",
              "  --border-color: #2e2e2e;\n",
              "  --background-color: #111111;\n",
              "  --background-color-row-even: #111111;\n",
              "  --background-color-row-odd: #313131;\n",
              "}\n",
              "\n",
              ".eerepr {\n",
              "  padding: 1em;\n",
              "  line-height: 1.5em;\n",
              "  min-width: 300px;\n",
              "  max-width: 1200px;\n",
              "  overflow-y: scroll;\n",
              "  max-height: 600px;\n",
              "  border: 1px solid var(--border-color);\n",
              "  font-family: monospace;\n",
              "  font-size: 14px;\n",
              "}\n",
              "\n",
              ".eerepr li {\n",
              "  list-style-type: none;\n",
              "  margin: 0;\n",
              "}\n",
              "\n",
              ".eerepr ul {\n",
              "  padding-left: 1.5em !important;\n",
              "  margin: 0;\n",
              "}\n",
              "\n",
              ".eerepr > ul {\n",
              "  padding-left: 0 !important;\n",
              "}\n",
              "\n",
              ".eerepr summary {\n",
              "  color: var(--font-color-secondary);\n",
              "  cursor: pointer;\n",
              "  margin: 0;\n",
              "}\n",
              "\n",
              ".eerepr summary:hover {\n",
              "  color: var(--font-color-primary);\n",
              "  background-color: var(--background-color-row-odd)\n",
              "}\n",
              "\n",
              ".ee-k {\n",
              "  color: var(--font-color-accent);\n",
              "  margin-right: 6px;\n",
              "}\n",
              "\n",
              ".ee-v {\n",
              "  color: var(--font-color-primary);\n",
              "}\n",
              "\n",
              ".eerepr details > summary::before {\n",
              "  content: '▼';\n",
              "  display: inline-block;\n",
              "  margin-right: 6px;\n",
              "  transition: transform 0.2s;\n",
              "  transform: rotate(-90deg);\n",
              "}\n",
              "\n",
              ".eerepr details[open] > summary::before {\n",
              "  transform: rotate(0deg);\n",
              "}\n",
              "\n",
              ".eerepr details summary::-webkit-details-marker {\n",
              "  display:none;\n",
              "}\n",
              "\n",
              ".eerepr details summary {\n",
              "  list-style-type: none;\n",
              "}\n",
              "</style><div class='eerepr'><ul><li><details><summary>Image (43 bands)</summary><ul><li><span class='ee-k'>type:</span><span class='ee-v'>Image</span></li><li><details><summary>bands: List (43 elements)</summary><ul><li><details><summary>0: \"B2\", double, EPSG:4326</summary><ul><li><span class='ee-k'>id:</span><span class='ee-v'>B2</span></li><li><span class='ee-k'>crs:</span><span class='ee-v'>EPSG:4326</span></li><li><details><summary>crs_transform: [1, 0, 0, 0, 1, 0]</summary><ul><li><span class='ee-k'>0:</span><span class='ee-v'>1</span></li><li><span class='ee-k'>1:</span><span class='ee-v'>0</span></li><li><span class='ee-k'>2:</span><span class='ee-v'>0</span></li><li><span class='ee-k'>3:</span><span class='ee-v'>0</span></li><li><span class='ee-k'>4:</span><span class='ee-v'>1</span></li><li><span class='ee-k'>5:</span><span class='ee-v'>0</span></li></ul></details></li><li><details><summary>data_type: double</summary><ul><li><span class='ee-k'>type:</span><span class='ee-v'>PixelType</span></li><li><span class='ee-k'>max:</span><span class='ee-v'>65535</span></li><li><span class='ee-k'>min:</span><span class='ee-v'>0</span></li><li><span class='ee-k'>precision:</span><span class='ee-v'>double</span></li></ul></details></li></ul></details></li><li><details><summary>1: \"B3\", double, EPSG:4326</summary><ul><li><span class='ee-k'>id:</span><span class='ee-v'>B3</span></li><li><span class='ee-k'>crs:</span><span class='ee-v'>EPSG:4326</span></li><li><details><summary>crs_transform: [1, 0, 0, 0, 1, 0]</summary><ul><li><span class='ee-k'>0:</span><span class='ee-v'>1</span></li><li><span class='ee-k'>1:</span><span class='ee-v'>0</span></li><li><span class='ee-k'>2:</span><span class='ee-v'>0</span></li><li><span class='ee-k'>3:</span><span class='ee-v'>0</span></li><li><span class='ee-k'>4:</span><span class='ee-v'>1</span></li><li><span class='ee-k'>5:</span><span class='ee-v'>0</span></li></ul></details></li><li><details><summary>data_type: double</summary><ul><li><span class='ee-k'>type:</span><span class='ee-v'>PixelType</span></li><li><span class='ee-k'>max:</span><span class='ee-v'>65535</span></li><li><span class='ee-k'>min:</span><span class='ee-v'>0</span></li><li><span class='ee-k'>precision:</span><span class='ee-v'>double</span></li></ul></details></li></ul></details></li><li><details><summary>2: \"B4\", double, EPSG:4326</summary><ul><li><span class='ee-k'>id:</span><span class='ee-v'>B4</span></li><li><span class='ee-k'>crs:</span><span class='ee-v'>EPSG:4326</span></li><li><details><summary>crs_transform: [1, 0, 0, 0, 1, 0]</summary><ul><li><span class='ee-k'>0:</span><span class='ee-v'>1</span></li><li><span class='ee-k'>1:</span><span class='ee-v'>0</span></li><li><span class='ee-k'>2:</span><span class='ee-v'>0</span></li><li><span class='ee-k'>3:</span><span class='ee-v'>0</span></li><li><span class='ee-k'>4:</span><span class='ee-v'>1</span></li><li><span class='ee-k'>5:</span><span class='ee-v'>0</span></li></ul></details></li><li><details><summary>data_type: double</summary><ul><li><span class='ee-k'>type:</span><span class='ee-v'>PixelType</span></li><li><span class='ee-k'>max:</span><span class='ee-v'>65535</span></li><li><span class='ee-k'>min:</span><span class='ee-v'>0</span></li><li><span class='ee-k'>precision:</span><span class='ee-v'>double</span></li></ul></details></li></ul></details></li><li><details><summary>3: \"B5\", double, EPSG:4326</summary><ul><li><span class='ee-k'>id:</span><span class='ee-v'>B5</span></li><li><span class='ee-k'>crs:</span><span class='ee-v'>EPSG:4326</span></li><li><details><summary>crs_transform: [1, 0, 0, 0, 1, 0]</summary><ul><li><span class='ee-k'>0:</span><span class='ee-v'>1</span></li><li><span class='ee-k'>1:</span><span class='ee-v'>0</span></li><li><span class='ee-k'>2:</span><span class='ee-v'>0</span></li><li><span class='ee-k'>3:</span><span class='ee-v'>0</span></li><li><span class='ee-k'>4:</span><span class='ee-v'>1</span></li><li><span class='ee-k'>5:</span><span class='ee-v'>0</span></li></ul></details></li><li><details><summary>data_type: double</summary><ul><li><span class='ee-k'>type:</span><span class='ee-v'>PixelType</span></li><li><span class='ee-k'>max:</span><span class='ee-v'>65535</span></li><li><span class='ee-k'>min:</span><span class='ee-v'>0</span></li><li><span class='ee-k'>precision:</span><span class='ee-v'>double</span></li></ul></details></li></ul></details></li><li><details><summary>4: \"B6\", double, EPSG:4326</summary><ul><li><span class='ee-k'>id:</span><span class='ee-v'>B6</span></li><li><span class='ee-k'>crs:</span><span class='ee-v'>EPSG:4326</span></li><li><details><summary>crs_transform: [1, 0, 0, 0, 1, 0]</summary><ul><li><span class='ee-k'>0:</span><span class='ee-v'>1</span></li><li><span class='ee-k'>1:</span><span class='ee-v'>0</span></li><li><span class='ee-k'>2:</span><span class='ee-v'>0</span></li><li><span class='ee-k'>3:</span><span class='ee-v'>0</span></li><li><span class='ee-k'>4:</span><span class='ee-v'>1</span></li><li><span class='ee-k'>5:</span><span class='ee-v'>0</span></li></ul></details></li><li><details><summary>data_type: double</summary><ul><li><span class='ee-k'>type:</span><span class='ee-v'>PixelType</span></li><li><span class='ee-k'>max:</span><span class='ee-v'>65535</span></li><li><span class='ee-k'>min:</span><span class='ee-v'>0</span></li><li><span class='ee-k'>precision:</span><span class='ee-v'>double</span></li></ul></details></li></ul></details></li><li><details><summary>5: \"B7\", double, EPSG:4326</summary><ul><li><span class='ee-k'>id:</span><span class='ee-v'>B7</span></li><li><span class='ee-k'>crs:</span><span class='ee-v'>EPSG:4326</span></li><li><details><summary>crs_transform: [1, 0, 0, 0, 1, 0]</summary><ul><li><span class='ee-k'>0:</span><span class='ee-v'>1</span></li><li><span class='ee-k'>1:</span><span class='ee-v'>0</span></li><li><span class='ee-k'>2:</span><span class='ee-v'>0</span></li><li><span class='ee-k'>3:</span><span class='ee-v'>0</span></li><li><span class='ee-k'>4:</span><span class='ee-v'>1</span></li><li><span class='ee-k'>5:</span><span class='ee-v'>0</span></li></ul></details></li><li><details><summary>data_type: double</summary><ul><li><span class='ee-k'>type:</span><span class='ee-v'>PixelType</span></li><li><span class='ee-k'>max:</span><span class='ee-v'>65535</span></li><li><span class='ee-k'>min:</span><span class='ee-v'>0</span></li><li><span class='ee-k'>precision:</span><span class='ee-v'>double</span></li></ul></details></li></ul></details></li><li><details><summary>6: \"B8\", double, EPSG:4326</summary><ul><li><span class='ee-k'>id:</span><span class='ee-v'>B8</span></li><li><span class='ee-k'>crs:</span><span class='ee-v'>EPSG:4326</span></li><li><details><summary>crs_transform: [1, 0, 0, 0, 1, 0]</summary><ul><li><span class='ee-k'>0:</span><span class='ee-v'>1</span></li><li><span class='ee-k'>1:</span><span class='ee-v'>0</span></li><li><span class='ee-k'>2:</span><span class='ee-v'>0</span></li><li><span class='ee-k'>3:</span><span class='ee-v'>0</span></li><li><span class='ee-k'>4:</span><span class='ee-v'>1</span></li><li><span class='ee-k'>5:</span><span class='ee-v'>0</span></li></ul></details></li><li><details><summary>data_type: double</summary><ul><li><span class='ee-k'>type:</span><span class='ee-v'>PixelType</span></li><li><span class='ee-k'>max:</span><span class='ee-v'>65535</span></li><li><span class='ee-k'>min:</span><span class='ee-v'>0</span></li><li><span class='ee-k'>precision:</span><span class='ee-v'>double</span></li></ul></details></li></ul></details></li><li><details><summary>7: \"B8A\", double, EPSG:4326</summary><ul><li><span class='ee-k'>id:</span><span class='ee-v'>B8A</span></li><li><span class='ee-k'>crs:</span><span class='ee-v'>EPSG:4326</span></li><li><details><summary>crs_transform: [1, 0, 0, 0, 1, 0]</summary><ul><li><span class='ee-k'>0:</span><span class='ee-v'>1</span></li><li><span class='ee-k'>1:</span><span class='ee-v'>0</span></li><li><span class='ee-k'>2:</span><span class='ee-v'>0</span></li><li><span class='ee-k'>3:</span><span class='ee-v'>0</span></li><li><span class='ee-k'>4:</span><span class='ee-v'>1</span></li><li><span class='ee-k'>5:</span><span class='ee-v'>0</span></li></ul></details></li><li><details><summary>data_type: double</summary><ul><li><span class='ee-k'>type:</span><span class='ee-v'>PixelType</span></li><li><span class='ee-k'>max:</span><span class='ee-v'>65535</span></li><li><span class='ee-k'>min:</span><span class='ee-v'>0</span></li><li><span class='ee-k'>precision:</span><span class='ee-v'>double</span></li></ul></details></li></ul></details></li><li><details><summary>8: \"B11\", double, EPSG:4326</summary><ul><li><span class='ee-k'>id:</span><span class='ee-v'>B11</span></li><li><span class='ee-k'>crs:</span><span class='ee-v'>EPSG:4326</span></li><li><details><summary>crs_transform: [1, 0, 0, 0, 1, 0]</summary><ul><li><span class='ee-k'>0:</span><span class='ee-v'>1</span></li><li><span class='ee-k'>1:</span><span class='ee-v'>0</span></li><li><span class='ee-k'>2:</span><span class='ee-v'>0</span></li><li><span class='ee-k'>3:</span><span class='ee-v'>0</span></li><li><span class='ee-k'>4:</span><span class='ee-v'>1</span></li><li><span class='ee-k'>5:</span><span class='ee-v'>0</span></li></ul></details></li><li><details><summary>data_type: double</summary><ul><li><span class='ee-k'>type:</span><span class='ee-v'>PixelType</span></li><li><span class='ee-k'>max:</span><span class='ee-v'>65535</span></li><li><span class='ee-k'>min:</span><span class='ee-v'>0</span></li><li><span class='ee-k'>precision:</span><span class='ee-v'>double</span></li></ul></details></li></ul></details></li><li><details><summary>9: \"B12\", double, EPSG:4326</summary><ul><li><span class='ee-k'>id:</span><span class='ee-v'>B12</span></li><li><span class='ee-k'>crs:</span><span class='ee-v'>EPSG:4326</span></li><li><details><summary>crs_transform: [1, 0, 0, 0, 1, 0]</summary><ul><li><span class='ee-k'>0:</span><span class='ee-v'>1</span></li><li><span class='ee-k'>1:</span><span class='ee-v'>0</span></li><li><span class='ee-k'>2:</span><span class='ee-v'>0</span></li><li><span class='ee-k'>3:</span><span class='ee-v'>0</span></li><li><span class='ee-k'>4:</span><span class='ee-v'>1</span></li><li><span class='ee-k'>5:</span><span class='ee-v'>0</span></li></ul></details></li><li><details><summary>data_type: double</summary><ul><li><span class='ee-k'>type:</span><span class='ee-v'>PixelType</span></li><li><span class='ee-k'>max:</span><span class='ee-v'>65535</span></li><li><span class='ee-k'>min:</span><span class='ee-v'>0</span></li><li><span class='ee-k'>precision:</span><span class='ee-v'>double</span></li></ul></details></li></ul></details></li><li><details><summary>10: \"NDVI\", double, EPSG:4326</summary><ul><li><span class='ee-k'>id:</span><span class='ee-v'>NDVI</span></li><li><span class='ee-k'>crs:</span><span class='ee-v'>EPSG:4326</span></li><li><details><summary>crs_transform: [1, 0, 0, 0, 1, 0]</summary><ul><li><span class='ee-k'>0:</span><span class='ee-v'>1</span></li><li><span class='ee-k'>1:</span><span class='ee-v'>0</span></li><li><span class='ee-k'>2:</span><span class='ee-v'>0</span></li><li><span class='ee-k'>3:</span><span class='ee-v'>0</span></li><li><span class='ee-k'>4:</span><span class='ee-v'>1</span></li><li><span class='ee-k'>5:</span><span class='ee-v'>0</span></li></ul></details></li><li><details><summary>data_type: double</summary><ul><li><span class='ee-k'>type:</span><span class='ee-v'>PixelType</span></li><li><span class='ee-k'>precision:</span><span class='ee-v'>double</span></li></ul></details></li></ul></details></li><li><details><summary>11: \"Chlogreen\", double, EPSG:4326</summary><ul><li><span class='ee-k'>id:</span><span class='ee-v'>Chlogreen</span></li><li><span class='ee-k'>crs:</span><span class='ee-v'>EPSG:4326</span></li><li><details><summary>crs_transform: [1, 0, 0, 0, 1, 0]</summary><ul><li><span class='ee-k'>0:</span><span class='ee-v'>1</span></li><li><span class='ee-k'>1:</span><span class='ee-v'>0</span></li><li><span class='ee-k'>2:</span><span class='ee-v'>0</span></li><li><span class='ee-k'>3:</span><span class='ee-v'>0</span></li><li><span class='ee-k'>4:</span><span class='ee-v'>1</span></li><li><span class='ee-k'>5:</span><span class='ee-v'>0</span></li></ul></details></li><li><details><summary>data_type: double</summary><ul><li><span class='ee-k'>type:</span><span class='ee-v'>PixelType</span></li><li><span class='ee-k'>precision:</span><span class='ee-v'>double</span></li></ul></details></li></ul></details></li><li><details><summary>12: \"LAnthoC\", double, EPSG:4326</summary><ul><li><span class='ee-k'>id:</span><span class='ee-v'>LAnthoC</span></li><li><span class='ee-k'>crs:</span><span class='ee-v'>EPSG:4326</span></li><li><details><summary>crs_transform: [1, 0, 0, 0, 1, 0]</summary><ul><li><span class='ee-k'>0:</span><span class='ee-v'>1</span></li><li><span class='ee-k'>1:</span><span class='ee-v'>0</span></li><li><span class='ee-k'>2:</span><span class='ee-v'>0</span></li><li><span class='ee-k'>3:</span><span class='ee-v'>0</span></li><li><span class='ee-k'>4:</span><span class='ee-v'>1</span></li><li><span class='ee-k'>5:</span><span class='ee-v'>0</span></li></ul></details></li><li><details><summary>data_type: double</summary><ul><li><span class='ee-k'>type:</span><span class='ee-v'>PixelType</span></li><li><span class='ee-k'>precision:</span><span class='ee-v'>double</span></li></ul></details></li></ul></details></li><li><details><summary>13: \"LChloC\", double, EPSG:4326</summary><ul><li><span class='ee-k'>id:</span><span class='ee-v'>LChloC</span></li><li><span class='ee-k'>crs:</span><span class='ee-v'>EPSG:4326</span></li><li><details><summary>crs_transform: [1, 0, 0, 0, 1, 0]</summary><ul><li><span class='ee-k'>0:</span><span class='ee-v'>1</span></li><li><span class='ee-k'>1:</span><span class='ee-v'>0</span></li><li><span class='ee-k'>2:</span><span class='ee-v'>0</span></li><li><span class='ee-k'>3:</span><span class='ee-v'>0</span></li><li><span class='ee-k'>4:</span><span class='ee-v'>1</span></li><li><span class='ee-k'>5:</span><span class='ee-v'>0</span></li></ul></details></li><li><details><summary>data_type: double</summary><ul><li><span class='ee-k'>type:</span><span class='ee-v'>PixelType</span></li><li><span class='ee-k'>precision:</span><span class='ee-v'>double</span></li></ul></details></li></ul></details></li><li><details><summary>14: \"LCaroC\", double, EPSG:4326</summary><ul><li><span class='ee-k'>id:</span><span class='ee-v'>LCaroC</span></li><li><span class='ee-k'>crs:</span><span class='ee-v'>EPSG:4326</span></li><li><details><summary>crs_transform: [1, 0, 0, 0, 1, 0]</summary><ul><li><span class='ee-k'>0:</span><span class='ee-v'>1</span></li><li><span class='ee-k'>1:</span><span class='ee-v'>0</span></li><li><span class='ee-k'>2:</span><span class='ee-v'>0</span></li><li><span class='ee-k'>3:</span><span class='ee-v'>0</span></li><li><span class='ee-k'>4:</span><span class='ee-v'>1</span></li><li><span class='ee-k'>5:</span><span class='ee-v'>0</span></li></ul></details></li><li><details><summary>data_type: double</summary><ul><li><span class='ee-k'>type:</span><span class='ee-v'>PixelType</span></li><li><span class='ee-k'>precision:</span><span class='ee-v'>double</span></li></ul></details></li></ul></details></li><li><details><summary>15: \"BAI\", double, EPSG:4326</summary><ul><li><span class='ee-k'>id:</span><span class='ee-v'>BAI</span></li><li><span class='ee-k'>crs:</span><span class='ee-v'>EPSG:4326</span></li><li><details><summary>crs_transform: [1, 0, 0, 0, 1, 0]</summary><ul><li><span class='ee-k'>0:</span><span class='ee-v'>1</span></li><li><span class='ee-k'>1:</span><span class='ee-v'>0</span></li><li><span class='ee-k'>2:</span><span class='ee-v'>0</span></li><li><span class='ee-k'>3:</span><span class='ee-v'>0</span></li><li><span class='ee-k'>4:</span><span class='ee-v'>1</span></li><li><span class='ee-k'>5:</span><span class='ee-v'>0</span></li></ul></details></li><li><details><summary>data_type: double</summary><ul><li><span class='ee-k'>type:</span><span class='ee-v'>PixelType</span></li><li><span class='ee-k'>precision:</span><span class='ee-v'>double</span></li></ul></details></li></ul></details></li><li><details><summary>16: \"GI\", double, EPSG:4326</summary><ul><li><span class='ee-k'>id:</span><span class='ee-v'>GI</span></li><li><span class='ee-k'>crs:</span><span class='ee-v'>EPSG:4326</span></li><li><details><summary>crs_transform: [1, 0, 0, 0, 1, 0]</summary><ul><li><span class='ee-k'>0:</span><span class='ee-v'>1</span></li><li><span class='ee-k'>1:</span><span class='ee-v'>0</span></li><li><span class='ee-k'>2:</span><span class='ee-v'>0</span></li><li><span class='ee-k'>3:</span><span class='ee-v'>0</span></li><li><span class='ee-k'>4:</span><span class='ee-v'>1</span></li><li><span class='ee-k'>5:</span><span class='ee-v'>0</span></li></ul></details></li><li><details><summary>data_type: double</summary><ul><li><span class='ee-k'>type:</span><span class='ee-v'>PixelType</span></li><li><span class='ee-k'>precision:</span><span class='ee-v'>double</span></li></ul></details></li></ul></details></li><li><details><summary>17: \"gNDVI\", double, EPSG:4326</summary><ul><li><span class='ee-k'>id:</span><span class='ee-v'>gNDVI</span></li><li><span class='ee-k'>crs:</span><span class='ee-v'>EPSG:4326</span></li><li><details><summary>crs_transform: [1, 0, 0, 0, 1, 0]</summary><ul><li><span class='ee-k'>0:</span><span class='ee-v'>1</span></li><li><span class='ee-k'>1:</span><span class='ee-v'>0</span></li><li><span class='ee-k'>2:</span><span class='ee-v'>0</span></li><li><span class='ee-k'>3:</span><span class='ee-v'>0</span></li><li><span class='ee-k'>4:</span><span class='ee-v'>1</span></li><li><span class='ee-k'>5:</span><span class='ee-v'>0</span></li></ul></details></li><li><details><summary>data_type: double</summary><ul><li><span class='ee-k'>type:</span><span class='ee-v'>PixelType</span></li><li><span class='ee-k'>precision:</span><span class='ee-v'>double</span></li></ul></details></li></ul></details></li><li><details><summary>18: \"MSI\", double, EPSG:4326</summary><ul><li><span class='ee-k'>id:</span><span class='ee-v'>MSI</span></li><li><span class='ee-k'>crs:</span><span class='ee-v'>EPSG:4326</span></li><li><details><summary>crs_transform: [1, 0, 0, 0, 1, 0]</summary><ul><li><span class='ee-k'>0:</span><span class='ee-v'>1</span></li><li><span class='ee-k'>1:</span><span class='ee-v'>0</span></li><li><span class='ee-k'>2:</span><span class='ee-v'>0</span></li><li><span class='ee-k'>3:</span><span class='ee-v'>0</span></li><li><span class='ee-k'>4:</span><span class='ee-v'>1</span></li><li><span class='ee-k'>5:</span><span class='ee-v'>0</span></li></ul></details></li><li><details><summary>data_type: double</summary><ul><li><span class='ee-k'>type:</span><span class='ee-v'>PixelType</span></li><li><span class='ee-k'>precision:</span><span class='ee-v'>double</span></li></ul></details></li></ul></details></li><li><details><summary>19: \"NDrededgeSWIR\", double, EPSG:4326</summary><ul><li><span class='ee-k'>id:</span><span class='ee-v'>NDrededgeSWIR</span></li><li><span class='ee-k'>crs:</span><span class='ee-v'>EPSG:4326</span></li><li><details><summary>crs_transform: [1, 0, 0, 0, 1, 0]</summary><ul><li><span class='ee-k'>0:</span><span class='ee-v'>1</span></li><li><span class='ee-k'>1:</span><span class='ee-v'>0</span></li><li><span class='ee-k'>2:</span><span class='ee-v'>0</span></li><li><span class='ee-k'>3:</span><span class='ee-v'>0</span></li><li><span class='ee-k'>4:</span><span class='ee-v'>1</span></li><li><span class='ee-k'>5:</span><span class='ee-v'>0</span></li></ul></details></li><li><details><summary>data_type: double</summary><ul><li><span class='ee-k'>type:</span><span class='ee-v'>PixelType</span></li><li><span class='ee-k'>precision:</span><span class='ee-v'>double</span></li></ul></details></li></ul></details></li><li><details><summary>20: \"NDTI\", double, EPSG:4326</summary><ul><li><span class='ee-k'>id:</span><span class='ee-v'>NDTI</span></li><li><span class='ee-k'>crs:</span><span class='ee-v'>EPSG:4326</span></li><li><details><summary>crs_transform: [1, 0, 0, 0, 1, 0]</summary><ul><li><span class='ee-k'>0:</span><span class='ee-v'>1</span></li><li><span class='ee-k'>1:</span><span class='ee-v'>0</span></li><li><span class='ee-k'>2:</span><span class='ee-v'>0</span></li><li><span class='ee-k'>3:</span><span class='ee-v'>0</span></li><li><span class='ee-k'>4:</span><span class='ee-v'>1</span></li><li><span class='ee-k'>5:</span><span class='ee-v'>0</span></li></ul></details></li><li><details><summary>data_type: double</summary><ul><li><span class='ee-k'>type:</span><span class='ee-v'>PixelType</span></li><li><span class='ee-k'>precision:</span><span class='ee-v'>double</span></li></ul></details></li></ul></details></li><li><details><summary>21: \"NDVIre\", double, EPSG:4326</summary><ul><li><span class='ee-k'>id:</span><span class='ee-v'>NDVIre</span></li><li><span class='ee-k'>crs:</span><span class='ee-v'>EPSG:4326</span></li><li><details><summary>crs_transform: [1, 0, 0, 0, 1, 0]</summary><ul><li><span class='ee-k'>0:</span><span class='ee-v'>1</span></li><li><span class='ee-k'>1:</span><span class='ee-v'>0</span></li><li><span class='ee-k'>2:</span><span class='ee-v'>0</span></li><li><span class='ee-k'>3:</span><span class='ee-v'>0</span></li><li><span class='ee-k'>4:</span><span class='ee-v'>1</span></li><li><span class='ee-k'>5:</span><span class='ee-v'>0</span></li></ul></details></li><li><details><summary>data_type: double</summary><ul><li><span class='ee-k'>type:</span><span class='ee-v'>PixelType</span></li><li><span class='ee-k'>precision:</span><span class='ee-v'>double</span></li></ul></details></li></ul></details></li><li><details><summary>22: \"NDVI1\", double, EPSG:4326</summary><ul><li><span class='ee-k'>id:</span><span class='ee-v'>NDVI1</span></li><li><span class='ee-k'>crs:</span><span class='ee-v'>EPSG:4326</span></li><li><details><summary>crs_transform: [1, 0, 0, 0, 1, 0]</summary><ul><li><span class='ee-k'>0:</span><span class='ee-v'>1</span></li><li><span class='ee-k'>1:</span><span class='ee-v'>0</span></li><li><span class='ee-k'>2:</span><span class='ee-v'>0</span></li><li><span class='ee-k'>3:</span><span class='ee-v'>0</span></li><li><span class='ee-k'>4:</span><span class='ee-v'>1</span></li><li><span class='ee-k'>5:</span><span class='ee-v'>0</span></li></ul></details></li><li><details><summary>data_type: double</summary><ul><li><span class='ee-k'>type:</span><span class='ee-v'>PixelType</span></li><li><span class='ee-k'>precision:</span><span class='ee-v'>double</span></li></ul></details></li></ul></details></li><li><details><summary>23: \"NDVI2\", double, EPSG:4326</summary><ul><li><span class='ee-k'>id:</span><span class='ee-v'>NDVI2</span></li><li><span class='ee-k'>crs:</span><span class='ee-v'>EPSG:4326</span></li><li><details><summary>crs_transform: [1, 0, 0, 0, 1, 0]</summary><ul><li><span class='ee-k'>0:</span><span class='ee-v'>1</span></li><li><span class='ee-k'>1:</span><span class='ee-v'>0</span></li><li><span class='ee-k'>2:</span><span class='ee-v'>0</span></li><li><span class='ee-k'>3:</span><span class='ee-v'>0</span></li><li><span class='ee-k'>4:</span><span class='ee-v'>1</span></li><li><span class='ee-k'>5:</span><span class='ee-v'>0</span></li></ul></details></li><li><details><summary>data_type: double</summary><ul><li><span class='ee-k'>type:</span><span class='ee-v'>PixelType</span></li><li><span class='ee-k'>precision:</span><span class='ee-v'>double</span></li></ul></details></li></ul></details></li><li><details><summary>24: \"EVI\", double, EPSG:4326</summary><ul><li><span class='ee-k'>id:</span><span class='ee-v'>EVI</span></li><li><span class='ee-k'>crs:</span><span class='ee-v'>EPSG:4326</span></li><li><details><summary>crs_transform: [1, 0, 0, 0, 1, 0]</summary><ul><li><span class='ee-k'>0:</span><span class='ee-v'>1</span></li><li><span class='ee-k'>1:</span><span class='ee-v'>0</span></li><li><span class='ee-k'>2:</span><span class='ee-v'>0</span></li><li><span class='ee-k'>3:</span><span class='ee-v'>0</span></li><li><span class='ee-k'>4:</span><span class='ee-v'>1</span></li><li><span class='ee-k'>5:</span><span class='ee-v'>0</span></li></ul></details></li><li><details><summary>data_type: double</summary><ul><li><span class='ee-k'>type:</span><span class='ee-v'>PixelType</span></li><li><span class='ee-k'>precision:</span><span class='ee-v'>double</span></li></ul></details></li></ul></details></li><li><details><summary>25: \"EVI2\", double, EPSG:4326</summary><ul><li><span class='ee-k'>id:</span><span class='ee-v'>EVI2</span></li><li><span class='ee-k'>crs:</span><span class='ee-v'>EPSG:4326</span></li><li><details><summary>crs_transform: [1, 0, 0, 0, 1, 0]</summary><ul><li><span class='ee-k'>0:</span><span class='ee-v'>1</span></li><li><span class='ee-k'>1:</span><span class='ee-v'>0</span></li><li><span class='ee-k'>2:</span><span class='ee-v'>0</span></li><li><span class='ee-k'>3:</span><span class='ee-v'>0</span></li><li><span class='ee-k'>4:</span><span class='ee-v'>1</span></li><li><span class='ee-k'>5:</span><span class='ee-v'>0</span></li></ul></details></li><li><details><summary>data_type: double</summary><ul><li><span class='ee-k'>type:</span><span class='ee-v'>PixelType</span></li><li><span class='ee-k'>max:</span><span class='ee-v'>157284</span></li><li><span class='ee-k'>min:</span><span class='ee-v'>-157284</span></li><li><span class='ee-k'>precision:</span><span class='ee-v'>double</span></li></ul></details></li></ul></details></li><li><details><summary>26: \"Norm_G\", double, EPSG:4326</summary><ul><li><span class='ee-k'>id:</span><span class='ee-v'>Norm_G</span></li><li><span class='ee-k'>crs:</span><span class='ee-v'>EPSG:4326</span></li><li><details><summary>crs_transform: [1, 0, 0, 0, 1, 0]</summary><ul><li><span class='ee-k'>0:</span><span class='ee-v'>1</span></li><li><span class='ee-k'>1:</span><span class='ee-v'>0</span></li><li><span class='ee-k'>2:</span><span class='ee-v'>0</span></li><li><span class='ee-k'>3:</span><span class='ee-v'>0</span></li><li><span class='ee-k'>4:</span><span class='ee-v'>1</span></li><li><span class='ee-k'>5:</span><span class='ee-v'>0</span></li></ul></details></li><li><details><summary>data_type: double</summary><ul><li><span class='ee-k'>type:</span><span class='ee-v'>PixelType</span></li><li><span class='ee-k'>precision:</span><span class='ee-v'>double</span></li></ul></details></li></ul></details></li><li><details><summary>27: \"Norm_NIR\", double, EPSG:4326</summary><ul><li><span class='ee-k'>id:</span><span class='ee-v'>Norm_NIR</span></li><li><span class='ee-k'>crs:</span><span class='ee-v'>EPSG:4326</span></li><li><details><summary>crs_transform: [1, 0, 0, 0, 1, 0]</summary><ul><li><span class='ee-k'>0:</span><span class='ee-v'>1</span></li><li><span class='ee-k'>1:</span><span class='ee-v'>0</span></li><li><span class='ee-k'>2:</span><span class='ee-v'>0</span></li><li><span class='ee-k'>3:</span><span class='ee-v'>0</span></li><li><span class='ee-k'>4:</span><span class='ee-v'>1</span></li><li><span class='ee-k'>5:</span><span class='ee-v'>0</span></li></ul></details></li><li><details><summary>data_type: double</summary><ul><li><span class='ee-k'>type:</span><span class='ee-v'>PixelType</span></li><li><span class='ee-k'>precision:</span><span class='ee-v'>double</span></li></ul></details></li></ul></details></li><li><details><summary>28: \"Norm_Red\", double, EPSG:4326</summary><ul><li><span class='ee-k'>id:</span><span class='ee-v'>Norm_Red</span></li><li><span class='ee-k'>crs:</span><span class='ee-v'>EPSG:4326</span></li><li><details><summary>crs_transform: [1, 0, 0, 0, 1, 0]</summary><ul><li><span class='ee-k'>0:</span><span class='ee-v'>1</span></li><li><span class='ee-k'>1:</span><span class='ee-v'>0</span></li><li><span class='ee-k'>2:</span><span class='ee-v'>0</span></li><li><span class='ee-k'>3:</span><span class='ee-v'>0</span></li><li><span class='ee-k'>4:</span><span class='ee-v'>1</span></li><li><span class='ee-k'>5:</span><span class='ee-v'>0</span></li></ul></details></li><li><details><summary>data_type: double</summary><ul><li><span class='ee-k'>type:</span><span class='ee-v'>PixelType</span></li><li><span class='ee-k'>precision:</span><span class='ee-v'>double</span></li></ul></details></li></ul></details></li><li><details><summary>29: \"RededgePeakArea\", double, EPSG:4326</summary><ul><li><span class='ee-k'>id:</span><span class='ee-v'>RededgePeakArea</span></li><li><span class='ee-k'>crs:</span><span class='ee-v'>EPSG:4326</span></li><li><details><summary>crs_transform: [1, 0, 0, 0, 1, 0]</summary><ul><li><span class='ee-k'>0:</span><span class='ee-v'>1</span></li><li><span class='ee-k'>1:</span><span class='ee-v'>0</span></li><li><span class='ee-k'>2:</span><span class='ee-v'>0</span></li><li><span class='ee-k'>3:</span><span class='ee-v'>0</span></li><li><span class='ee-k'>4:</span><span class='ee-v'>1</span></li><li><span class='ee-k'>5:</span><span class='ee-v'>0</span></li></ul></details></li><li><details><summary>data_type: double</summary><ul><li><span class='ee-k'>type:</span><span class='ee-v'>PixelType</span></li><li><span class='ee-k'>max:</span><span class='ee-v'>327675</span></li><li><span class='ee-k'>min:</span><span class='ee-v'>0</span></li><li><span class='ee-k'>precision:</span><span class='ee-v'>double</span></li></ul></details></li></ul></details></li><li><details><summary>30: \"RedSWIR1\", double, EPSG:4326</summary><ul><li><span class='ee-k'>id:</span><span class='ee-v'>RedSWIR1</span></li><li><span class='ee-k'>crs:</span><span class='ee-v'>EPSG:4326</span></li><li><details><summary>crs_transform: [1, 0, 0, 0, 1, 0]</summary><ul><li><span class='ee-k'>0:</span><span class='ee-v'>1</span></li><li><span class='ee-k'>1:</span><span class='ee-v'>0</span></li><li><span class='ee-k'>2:</span><span class='ee-v'>0</span></li><li><span class='ee-k'>3:</span><span class='ee-v'>0</span></li><li><span class='ee-k'>4:</span><span class='ee-v'>1</span></li><li><span class='ee-k'>5:</span><span class='ee-v'>0</span></li></ul></details></li><li><details><summary>data_type: double</summary><ul><li><span class='ee-k'>type:</span><span class='ee-v'>PixelType</span></li><li><span class='ee-k'>max:</span><span class='ee-v'>65535</span></li><li><span class='ee-k'>min:</span><span class='ee-v'>-65535</span></li><li><span class='ee-k'>precision:</span><span class='ee-v'>double</span></li></ul></details></li></ul></details></li><li><details><summary>31: \"SRBlueRededge2\", double, EPSG:4326</summary><ul><li><span class='ee-k'>id:</span><span class='ee-v'>SRBlueRededge2</span></li><li><span class='ee-k'>crs:</span><span class='ee-v'>EPSG:4326</span></li><li><details><summary>crs_transform: [1, 0, 0, 0, 1, 0]</summary><ul><li><span class='ee-k'>0:</span><span class='ee-v'>1</span></li><li><span class='ee-k'>1:</span><span class='ee-v'>0</span></li><li><span class='ee-k'>2:</span><span class='ee-v'>0</span></li><li><span class='ee-k'>3:</span><span class='ee-v'>0</span></li><li><span class='ee-k'>4:</span><span class='ee-v'>1</span></li><li><span class='ee-k'>5:</span><span class='ee-v'>0</span></li></ul></details></li><li><details><summary>data_type: double</summary><ul><li><span class='ee-k'>type:</span><span class='ee-v'>PixelType</span></li><li><span class='ee-k'>precision:</span><span class='ee-v'>double</span></li></ul></details></li></ul></details></li><li><details><summary>32: \"SRBlueRededge3\", double, EPSG:4326</summary><ul><li><span class='ee-k'>id:</span><span class='ee-v'>SRBlueRededge3</span></li><li><span class='ee-k'>crs:</span><span class='ee-v'>EPSG:4326</span></li><li><details><summary>crs_transform: [1, 0, 0, 0, 1, 0]</summary><ul><li><span class='ee-k'>0:</span><span class='ee-v'>1</span></li><li><span class='ee-k'>1:</span><span class='ee-v'>0</span></li><li><span class='ee-k'>2:</span><span class='ee-v'>0</span></li><li><span class='ee-k'>3:</span><span class='ee-v'>0</span></li><li><span class='ee-k'>4:</span><span class='ee-v'>1</span></li><li><span class='ee-k'>5:</span><span class='ee-v'>0</span></li></ul></details></li><li><details><summary>data_type: double</summary><ul><li><span class='ee-k'>type:</span><span class='ee-v'>PixelType</span></li><li><span class='ee-k'>precision:</span><span class='ee-v'>double</span></li></ul></details></li></ul></details></li><li><details><summary>33: \"SRNIRnarrowBlue\", double, EPSG:4326</summary><ul><li><span class='ee-k'>id:</span><span class='ee-v'>SRNIRnarrowBlue</span></li><li><span class='ee-k'>crs:</span><span class='ee-v'>EPSG:4326</span></li><li><details><summary>crs_transform: [1, 0, 0, 0, 1, 0]</summary><ul><li><span class='ee-k'>0:</span><span class='ee-v'>1</span></li><li><span class='ee-k'>1:</span><span class='ee-v'>0</span></li><li><span class='ee-k'>2:</span><span class='ee-v'>0</span></li><li><span class='ee-k'>3:</span><span class='ee-v'>0</span></li><li><span class='ee-k'>4:</span><span class='ee-v'>1</span></li><li><span class='ee-k'>5:</span><span class='ee-v'>0</span></li></ul></details></li><li><details><summary>data_type: double</summary><ul><li><span class='ee-k'>type:</span><span class='ee-v'>PixelType</span></li><li><span class='ee-k'>precision:</span><span class='ee-v'>double</span></li></ul></details></li></ul></details></li><li><details><summary>34: \"SRNIRnarrowRed\", double, EPSG:4326</summary><ul><li><span class='ee-k'>id:</span><span class='ee-v'>SRNIRnarrowRed</span></li><li><span class='ee-k'>crs:</span><span class='ee-v'>EPSG:4326</span></li><li><details><summary>crs_transform: [1, 0, 0, 0, 1, 0]</summary><ul><li><span class='ee-k'>0:</span><span class='ee-v'>1</span></li><li><span class='ee-k'>1:</span><span class='ee-v'>0</span></li><li><span class='ee-k'>2:</span><span class='ee-v'>0</span></li><li><span class='ee-k'>3:</span><span class='ee-v'>0</span></li><li><span class='ee-k'>4:</span><span class='ee-v'>1</span></li><li><span class='ee-k'>5:</span><span class='ee-v'>0</span></li></ul></details></li><li><details><summary>data_type: double</summary><ul><li><span class='ee-k'>type:</span><span class='ee-v'>PixelType</span></li><li><span class='ee-k'>precision:</span><span class='ee-v'>double</span></li></ul></details></li></ul></details></li><li><details><summary>35: \"SRNIRnarrowRededge3\", double, EPSG:4326</summary><ul><li><span class='ee-k'>id:</span><span class='ee-v'>SRNIRnarrowRededge3</span></li><li><span class='ee-k'>crs:</span><span class='ee-v'>EPSG:4326</span></li><li><details><summary>crs_transform: [1, 0, 0, 0, 1, 0]</summary><ul><li><span class='ee-k'>0:</span><span class='ee-v'>1</span></li><li><span class='ee-k'>1:</span><span class='ee-v'>0</span></li><li><span class='ee-k'>2:</span><span class='ee-v'>0</span></li><li><span class='ee-k'>3:</span><span class='ee-v'>0</span></li><li><span class='ee-k'>4:</span><span class='ee-v'>1</span></li><li><span class='ee-k'>5:</span><span class='ee-v'>0</span></li></ul></details></li><li><details><summary>data_type: double</summary><ul><li><span class='ee-k'>type:</span><span class='ee-v'>PixelType</span></li><li><span class='ee-k'>precision:</span><span class='ee-v'>double</span></li></ul></details></li></ul></details></li><li><details><summary>36: \"STI\", double, EPSG:4326</summary><ul><li><span class='ee-k'>id:</span><span class='ee-v'>STI</span></li><li><span class='ee-k'>crs:</span><span class='ee-v'>EPSG:4326</span></li><li><details><summary>crs_transform: [1, 0, 0, 0, 1, 0]</summary><ul><li><span class='ee-k'>0:</span><span class='ee-v'>1</span></li><li><span class='ee-k'>1:</span><span class='ee-v'>0</span></li><li><span class='ee-k'>2:</span><span class='ee-v'>0</span></li><li><span class='ee-k'>3:</span><span class='ee-v'>0</span></li><li><span class='ee-k'>4:</span><span class='ee-v'>1</span></li><li><span class='ee-k'>5:</span><span class='ee-v'>0</span></li></ul></details></li><li><details><summary>data_type: double</summary><ul><li><span class='ee-k'>type:</span><span class='ee-v'>PixelType</span></li><li><span class='ee-k'>precision:</span><span class='ee-v'>double</span></li></ul></details></li></ul></details></li><li><details><summary>37: \"WBI\", double, EPSG:4326</summary><ul><li><span class='ee-k'>id:</span><span class='ee-v'>WBI</span></li><li><span class='ee-k'>crs:</span><span class='ee-v'>EPSG:4326</span></li><li><details><summary>crs_transform: [1, 0, 0, 0, 1, 0]</summary><ul><li><span class='ee-k'>0:</span><span class='ee-v'>1</span></li><li><span class='ee-k'>1:</span><span class='ee-v'>0</span></li><li><span class='ee-k'>2:</span><span class='ee-v'>0</span></li><li><span class='ee-k'>3:</span><span class='ee-v'>0</span></li><li><span class='ee-k'>4:</span><span class='ee-v'>1</span></li><li><span class='ee-k'>5:</span><span class='ee-v'>0</span></li></ul></details></li><li><details><summary>data_type: double</summary><ul><li><span class='ee-k'>type:</span><span class='ee-v'>PixelType</span></li><li><span class='ee-k'>precision:</span><span class='ee-v'>double</span></li></ul></details></li></ul></details></li><li><details><summary>38: \"NDMI\", double, EPSG:4326</summary><ul><li><span class='ee-k'>id:</span><span class='ee-v'>NDMI</span></li><li><span class='ee-k'>crs:</span><span class='ee-v'>EPSG:4326</span></li><li><details><summary>crs_transform: [1, 0, 0, 0, 1, 0]</summary><ul><li><span class='ee-k'>0:</span><span class='ee-v'>1</span></li><li><span class='ee-k'>1:</span><span class='ee-v'>0</span></li><li><span class='ee-k'>2:</span><span class='ee-v'>0</span></li><li><span class='ee-k'>3:</span><span class='ee-v'>0</span></li><li><span class='ee-k'>4:</span><span class='ee-v'>1</span></li><li><span class='ee-k'>5:</span><span class='ee-v'>0</span></li></ul></details></li><li><details><summary>data_type: double</summary><ul><li><span class='ee-k'>type:</span><span class='ee-v'>PixelType</span></li><li><span class='ee-k'>precision:</span><span class='ee-v'>double</span></li></ul></details></li></ul></details></li><li><details><summary>39: \"DSM\", signed int16, EPSG:4326</summary><ul><li><span class='ee-k'>id:</span><span class='ee-v'>DSM</span></li><li><span class='ee-k'>crs:</span><span class='ee-v'>EPSG:4326</span></li><li><details><summary>crs_transform: [1, 0, 0, 0, 1, 0]</summary><ul><li><span class='ee-k'>0:</span><span class='ee-v'>1</span></li><li><span class='ee-k'>1:</span><span class='ee-v'>0</span></li><li><span class='ee-k'>2:</span><span class='ee-v'>0</span></li><li><span class='ee-k'>3:</span><span class='ee-v'>0</span></li><li><span class='ee-k'>4:</span><span class='ee-v'>1</span></li><li><span class='ee-k'>5:</span><span class='ee-v'>0</span></li></ul></details></li><li><details><summary>data_type: signed int16</summary><ul><li><span class='ee-k'>type:</span><span class='ee-v'>PixelType</span></li><li><span class='ee-k'>max:</span><span class='ee-v'>32767</span></li><li><span class='ee-k'>min:</span><span class='ee-v'>-32768</span></li><li><span class='ee-k'>precision:</span><span class='ee-v'>int</span></li></ul></details></li></ul></details></li><li><details><summary>40: \"constant\", unsigned int8, EPSG:4326, 445278x173164 px</summary><ul><li><span class='ee-k'>id:</span><span class='ee-v'>constant</span></li><li><span class='ee-k'>crs:</span><span class='ee-v'>EPSG:4326</span></li><li><details><summary>crs_transform: List (6 elements)</summary><ul><li><span class='ee-k'>0:</span><span class='ee-v'>0.0008084837557075694</span></li><li><span class='ee-k'>1:</span><span class='ee-v'>0</span></li><li><span class='ee-k'>2:</span><span class='ee-v'>-180.00001488697754</span></li><li><span class='ee-k'>3:</span><span class='ee-v'>0</span></li><li><span class='ee-k'>4:</span><span class='ee-v'>-0.0008084837557075694</span></li><li><span class='ee-k'>5:</span><span class='ee-v'>70.00014053667277</span></li></ul></details></li><li><details><summary>data_type: unsigned int8</summary><ul><li><span class='ee-k'>type:</span><span class='ee-v'>PixelType</span></li><li><span class='ee-k'>max:</span><span class='ee-v'>255</span></li><li><span class='ee-k'>min:</span><span class='ee-v'>0</span></li><li><span class='ee-k'>precision:</span><span class='ee-v'>int</span></li></ul></details></li><li><details><summary>dimensions: [445278, 173164]</summary><ul><li><span class='ee-k'>0:</span><span class='ee-v'>445278</span></li><li><span class='ee-k'>1:</span><span class='ee-v'>173164</span></li></ul></details></li></ul></details></li><li><details><summary>41: \"biome\", unsigned int8, EPSG:4326, 32606x36034 px</summary><ul><li><span class='ee-k'>id:</span><span class='ee-v'>biome</span></li><li><span class='ee-k'>crs:</span><span class='ee-v'>EPSG:4326</span></li><li><details><summary>crs_transform: List (6 elements)</summary><ul><li><span class='ee-k'>0:</span><span class='ee-v'>9.728971451012593e-05</span></li><li><span class='ee-k'>1:</span><span class='ee-v'>0</span></li><li><span class='ee-k'>2:</span><span class='ee-v'>17.63462263368693</span></li><li><span class='ee-k'>3:</span><span class='ee-v'>0</span></li><li><span class='ee-k'>4:</span><span class='ee-v'>-9.728971451012593e-05</span></li><li><span class='ee-k'>5:</span><span class='ee-v'>-29.80831119434211</span></li></ul></details></li><li><details><summary>data_type: unsigned int8</summary><ul><li><span class='ee-k'>type:</span><span class='ee-v'>PixelType</span></li><li><span class='ee-k'>max:</span><span class='ee-v'>255</span></li><li><span class='ee-k'>min:</span><span class='ee-v'>0</span></li><li><span class='ee-k'>precision:</span><span class='ee-v'>int</span></li></ul></details></li><li><details><summary>dimensions: [32606, 36034]</summary><ul><li><span class='ee-k'>0:</span><span class='ee-v'>32606</span></li><li><span class='ee-k'>1:</span><span class='ee-v'>36034</span></li></ul></details></li></ul></details></li><li><details><summary>42: \"segments\", signed int32, EPSG:4326</summary><ul><li><span class='ee-k'>id:</span><span class='ee-v'>segments</span></li><li><span class='ee-k'>crs:</span><span class='ee-v'>EPSG:4326</span></li><li><details><summary>crs_transform: [1, 0, 0, 0, 1, 0]</summary><ul><li><span class='ee-k'>0:</span><span class='ee-v'>1</span></li><li><span class='ee-k'>1:</span><span class='ee-v'>0</span></li><li><span class='ee-k'>2:</span><span class='ee-v'>0</span></li><li><span class='ee-k'>3:</span><span class='ee-v'>0</span></li><li><span class='ee-k'>4:</span><span class='ee-v'>1</span></li><li><span class='ee-k'>5:</span><span class='ee-v'>0</span></li></ul></details></li><li><details><summary>data_type: signed int32</summary><ul><li><span class='ee-k'>type:</span><span class='ee-v'>PixelType</span></li><li><span class='ee-k'>max:</span><span class='ee-v'>2147483647</span></li><li><span class='ee-k'>min:</span><span class='ee-v'>-2147483648</span></li><li><span class='ee-k'>precision:</span><span class='ee-v'>int</span></li></ul></details></li></ul></details></li></ul></details></li></ul></details></li></ul></div></div>"
            ]
          },
          "metadata": {},
          "execution_count": 4
        }
      ],
      "source": [
        "# load image with bands and indices\n",
        "snic_predictors = [\"B2\", \"B3\", \"B4\"]\n",
        "selected_image = image.select(snic_predictors)\n",
        "\n",
        "# Run SNIC segmentation\n",
        "snic = ee.Algorithms.Image.Segmentation.SNIC(\n",
        "    image=selected_image,\n",
        "    size=10,\n",
        "    compactness=0,\n",
        "    connectivity=8,\n",
        "    neighborhoodSize=40,\n",
        "    seeds=None\n",
        ")\n",
        "# Extract the 'clusters' band and rename it to 'segments'\n",
        "segments = snic.select(\"clusters\").rename(\"segments\")\n",
        "\n",
        "# Apply the add_indices function to the single image\n",
        "image_indices = add_indices(image).addBands(terrain_bands).addBands(biome_band).addBands(segments)\n",
        "image_indices\n"
      ]
    },
    {
      "cell_type": "markdown",
      "source": [
        "### Export SNIC segments as an asset to GEE"
      ],
      "metadata": {
        "id": "4DRaKdzWc8cu"
      },
      "id": "4DRaKdzWc8cu"
    },
    {
      "cell_type": "code",
      "source": [
        "# Compute segment boundaries\n",
        "#edges = segments.fastDistanceTransform(30).sqrt().mask().rename('edges')\n",
        "\n",
        "# Convert the FeatureCollection to a Geometry\n",
        "#ROI = aoi.geometry()\n",
        "#task = ee.batch.Export.image.toAsset(\n",
        "    #image=edges.visualize(palette=['000000'], forceRgbOutput=True),\n",
        "    #description='edges_Segmented_Image_Exportclassified_export',\n",
        "    #assetId='projects/olifantsdoringproject/assets/snic_edgessegments02062025',  # Replace with your actual asset path\n",
        "    #region=aoi.geometry(),  # Ensure 'aoi' is defined as ee.FeatureCollection or ee.Geometry\n",
        "    #scale=10,\n",
        "    #maxPixels=1e13\n",
        "#)\n",
        "#task.start()"
      ],
      "metadata": {
        "id": "wu-E8qNsLfYv",
        "colab": {
          "base_uri": "https://localhost:8080/",
          "height": 17
        },
        "outputId": "fd8e47c8-a9fa-4d5b-d933-4bf43bf02d33"
      },
      "id": "wu-E8qNsLfYv",
      "execution_count": null,
      "outputs": [
        {
          "output_type": "display_data",
          "data": {
            "text/plain": [
              "<IPython.core.display.HTML object>"
            ],
            "text/html": [
              "\n",
              "            <style>\n",
              "                .geemap-dark {\n",
              "                    --jp-widgets-color: white;\n",
              "                    --jp-widgets-label-color: white;\n",
              "                    --jp-ui-font-color1: white;\n",
              "                    --jp-layout-color2: #454545;\n",
              "                    background-color: #383838;\n",
              "                }\n",
              "\n",
              "                .geemap-dark .jupyter-button {\n",
              "                    --jp-layout-color3: #383838;\n",
              "                }\n",
              "\n",
              "                .geemap-colab {\n",
              "                    background-color: var(--colab-primary-surface-color, white);\n",
              "                }\n",
              "\n",
              "                .geemap-colab .jupyter-button {\n",
              "                    --jp-layout-color3: var(--colab-primary-surface-color, white);\n",
              "                }\n",
              "            </style>\n",
              "            "
            ]
          },
          "metadata": {}
        }
      ]
    },
    {
      "cell_type": "markdown",
      "source": [
        "### Visualize SNIC segments"
      ],
      "metadata": {
        "id": "q_5UectPdK4B"
      },
      "id": "q_5UectPdK4B"
    },
    {
      "cell_type": "code",
      "execution_count": null,
      "id": "fab59d61-3561-4e3d-aafe-6da610074956",
      "metadata": {
        "colab": {
          "base_uri": "https://localhost:8080/",
          "height": 621,
          "referenced_widgets": [
            "33c6db60e84d47f0a8179a746530b69e",
            "0c70d1940a8841eeb132428026546ce1",
            "afa3b8c125824c1ba6fad603d9d01807",
            "600cb78c8a984e329a462abb4ac3429f",
            "95126e2dfe864704b19986551479cd30",
            "d6ee84dc79ed49a2b148a4583cdfaa74",
            "df5cce5880974d8a89541a0152bf6cd8",
            "fe8d3db8469f44b69a124415befa6030",
            "6d76d26c5502425a93d328cfb81f8526",
            "59ef648dc1e84ff4bfb39d13040de895",
            "f61fba31c2734b01bd69e49712d5b7d6",
            "d4855ec79dc64d49b5f5281150e43357",
            "af83801988b84b1ca236dfd9a3db4d7e",
            "d1cbb9098cc5439e988f34d732e04485",
            "2ab53dd69d054d6686a4e582741b91d0",
            "aafee159517f48f18c2846a13e17f5db",
            "ffbfc6da104d42efab345c08d0992a33",
            "cf2a244c021540b9ab4cca1e9fd38cbc",
            "3b9f0b6e03894c99805a689daf1dfc04",
            "45ace3d2b3084e8dbb079a9ffae40d3d",
            "f79ab8627517496089f25484adb0d1d9",
            "f65594bdb4944c9ab063732f96364270",
            "4ed8fd870f5142eebddfc5d363e89619",
            "f1c0eb8b39c84b62b58ae7263cd9745c",
            "9afcb8d0c51b4fdaadbbda2b6c91f47e",
            "9b8439fde23b43fc95ae1012361f4121",
            "88720c09856f4490b20224af90bac748",
            "b8f6db13ba4a41d59c1d3152414f9cf4",
            "4fbc5472d9654a6896d1280a935c2112",
            "739a8355536f43db9778e26bcd88ecf9",
            "30b16d3e93534d219d23bd27dd09e1b3",
            "c582907d07f345299de214e241e6b3b1",
            "8b17886c15034e0191bc308c8ce12181",
            "f01bcd5a4ea54bd09bbe95fbdfd2733e",
            "4a00d3f980614d5f80417f25977ee264",
            "42580a56cfc4419db7799cff2ce8f267",
            "2df67d64932d4f15aee17be492a4118d",
            "0f4f1703f1d042b0ae4316ddf970d6bd",
            "bcafb8bfd9c34192957087a13ae8043d",
            "82f366f2f382471ab1bcc184ecc8131d",
            "2b6c2cd03e494564a954c040ae5fd2bd",
            "1e43ded7cf874501bfc34758175597eb",
            "e8b1d8c3d4c8455ba74fc0f61fffbb2d",
            "6770b0048cdb49d9a69140842c95c107",
            "f50840af693d47f799977ec7fbb2088c",
            "90be5ff614b7452694ba6e9a95d56068",
            "3ba474cc332a41d1b3183450569f558b",
            "4a89f94767804d2d8c47143915453a00",
            "4ac85959eb6b4751907c4df53bbbac53",
            "1b8bfc665f4649af91e1fd91bb57ba99",
            "eeb2c19623d947cd8156010ee002efe0",
            "a3d2ec0275fb4e288284ff1cea180e4b",
            "fbdc6c4317794df495884406a5391251",
            "8f8209b0a3f1454d96164867386286e7",
            "a298efcf4a894a8cb8db25f61cfc5144",
            "4d9b69d796894bc7972d35de48fbf7a3",
            "ecca3d65deea4b18a7db6221a0bbbec6",
            "93edba3a6e474eff884b200887bd1382",
            "b9841c8ca69a44d280a10b0793750ca1",
            "0b0d78a645644c0d9ab0f1d744c3dd7c",
            "773630f68a8e44fab392fc241e81b5b9",
            "065458a41dc8408eb36237d796c4b666",
            "19d0f3ed2af544eaacc50afed5e56cd8",
            "270b94d4d62d43d58fb5dedc428799b7",
            "44dc8a5784264af9a377b65f085f9b5b",
            "5fc929e3594e4870bfe6148802f64207",
            "6698a65bdb594cf4b7a28e01b09dbbf5",
            "8719778d043946dd9c3e4ea197297e80",
            "558f9ba66f4f4ffe892569d5b945c3fc",
            "7ac11037cb3f45508c420418db6e845a",
            "f4e43bce20714f1d8723238dc8d546a6",
            "0e8afa7421b24939ad2b58f212647722",
            "b67d26ffd3e9417ea6f98be34e5be8d7",
            "ca842dfd27fa4089b82d96916a7cb3f9",
            "a05f8db55ab54579acbdbc3e68b8ae05",
            "24f83434101545b898b135e4729c3bfd",
            "43b1554cb89c45848097d0b8c8820e48",
            "9217fe357b0a4705b1c215414f750044",
            "417752e53abd447f83c9140f8e008d27",
            "fc01b712a898428198bc74e7a1a40669",
            "2267591fbc6a4d30942a9cd4080c2933",
            "c98c90d11896473c8ba4eab08aa485b3",
            "c9bcb4972fe94f91a06c4e80f0c36cc3",
            "49dd6c139ba54ec3b19c9c27be5259e1",
            "f4dfe427614d4561a8a7cc1cb6175f04",
            "92a61208cc234ef78851dc449e366007",
            "9e4e819ec0124198a77baf46f6674697",
            "746a3501b5574fdeaa9834c442193ee5",
            "9aba6678e28744af931952c0b87522e2",
            "2af636d947114e4b99c69b42e29d74eb",
            "8fce598a2129446dbba9923937148633",
            "7334b150340741dea243ba61b11c5e05",
            "a6cb729863dc4fc398dc21c1b64e18dc",
            "1792d0f96789421392dbcd6e9bacd7ff",
            "16d2a44c48824940b5a41b87bdfb4219",
            "6577f7ed02b24d0296d45046502b74b7",
            "9ae93625a77746ebb6e3f5b74f0b41f0",
            "e001f363625544dc9f597d7ab599e130",
            "69e8872beb444b718a854e3839c88848",
            "9c323e6dfd4e405bac7debe70e382a85",
            "248b7916e5aa470399ac7bbfe197c379",
            "1b8d2edb935e4c10a166d2a851a8ec41",
            "c42654a1290e4a4ba76ee032484842c6",
            "01a3ced8dff84b31b655ca7cfab67b2c",
            "7eb6184c53b14027abe316cd4f04e8c6"
          ]
        },
        "id": "fab59d61-3561-4e3d-aafe-6da610074956",
        "outputId": "0cabe122-f639-49b0-b8e3-ff8839bf0c3b"
      },
      "outputs": [
        {
          "output_type": "display_data",
          "data": {
            "text/plain": [
              "<IPython.core.display.HTML object>"
            ],
            "text/html": [
              "\n",
              "            <style>\n",
              "                .geemap-dark {\n",
              "                    --jp-widgets-color: white;\n",
              "                    --jp-widgets-label-color: white;\n",
              "                    --jp-ui-font-color1: white;\n",
              "                    --jp-layout-color2: #454545;\n",
              "                    background-color: #383838;\n",
              "                }\n",
              "\n",
              "                .geemap-dark .jupyter-button {\n",
              "                    --jp-layout-color3: #383838;\n",
              "                }\n",
              "\n",
              "                .geemap-colab {\n",
              "                    background-color: var(--colab-primary-surface-color, white);\n",
              "                }\n",
              "\n",
              "                .geemap-colab .jupyter-button {\n",
              "                    --jp-layout-color3: var(--colab-primary-surface-color, white);\n",
              "                }\n",
              "            </style>\n",
              "            "
            ]
          },
          "metadata": {}
        },
        {
          "output_type": "display_data",
          "data": {
            "text/plain": [
              "Map(center=[-31.69446269213873, 19.289755343477697], controls=(WidgetControl(options=['position', 'transparent…"
            ],
            "application/vnd.jupyter.widget-view+json": {
              "version_major": 2,
              "version_minor": 0,
              "model_id": "33c6db60e84d47f0a8179a746530b69e"
            }
          },
          "metadata": {
            "application/vnd.jupyter.widget-view+json": {
              "colab": {
                "custom_widget_manager": {
                  "url": "https://ssl.gstatic.com/colaboratory-static/widgets/colab-cdn-widget-manager/2b70e893a8ba7c0f/manager.min.js"
                }
              }
            }
          }
        }
      ],
      "source": [
        "#########Visualize your segments###################################################################\n",
        "Map = geemap.Map(zoom=11, basemap='SATELLITE')\n",
        "Map.centerObject(aoi, 11)\n",
        "Map.addLayer(image, {'bands': ['B4', 'B3', 'B2'], 'min': 0, 'max': 3000}, 'Sentinel-2 RGB')\n",
        "Map.addLayer(segments.randomVisualizer(), {}, 'SNIC Segments')\n",
        "Map.addLayer(image_indices, {'bands': ['B4', 'B3', 'B2'], 'min': 0, 'max': 3000}, 'Sentinel-2 RGB_clipped')\n",
        "Map"
      ]
    },
    {
      "cell_type": "markdown",
      "source": [
        "### Split the training dataset (70-20-10) and train the classifer"
      ],
      "metadata": {
        "id": "3t04K132ex0Z"
      },
      "id": "3t04K132ex0Z"
    },
    {
      "cell_type": "code",
      "execution_count": null,
      "id": "2af7715e-31d2-4cf9-99f2-de49565e690a",
      "metadata": {
        "colab": {
          "base_uri": "https://localhost:8080/",
          "height": 1000
        },
        "id": "2af7715e-31d2-4cf9-99f2-de49565e690a",
        "outputId": "ef6ceafe-dad6-4895-8e70-32fca564ef1d"
      },
      "outputs": [
        {
          "output_type": "display_data",
          "data": {
            "text/plain": [
              "<IPython.core.display.HTML object>"
            ],
            "text/html": [
              "\n",
              "            <style>\n",
              "                .geemap-dark {\n",
              "                    --jp-widgets-color: white;\n",
              "                    --jp-widgets-label-color: white;\n",
              "                    --jp-ui-font-color1: white;\n",
              "                    --jp-layout-color2: #454545;\n",
              "                    background-color: #383838;\n",
              "                }\n",
              "\n",
              "                .geemap-dark .jupyter-button {\n",
              "                    --jp-layout-color3: #383838;\n",
              "                }\n",
              "\n",
              "                .geemap-colab {\n",
              "                    background-color: var(--colab-primary-surface-color, white);\n",
              "                }\n",
              "\n",
              "                .geemap-colab .jupyter-button {\n",
              "                    --jp-layout-color3: var(--colab-primary-surface-color, white);\n",
              "                }\n",
              "            </style>\n",
              "            "
            ]
          },
          "metadata": {}
        },
        {
          "output_type": "stream",
          "name": "stdout",
          "text": [
            "\n",
            "=== Iteration 1 ===\n",
            "Validation Accuracy: 0.9606017191977078\n",
            "\n",
            "=== Iteration 2 ===\n",
            "Validation Accuracy: 0.965212784743069\n",
            "\n",
            "=== Iteration 3 ===\n",
            "Validation Accuracy: 0.9577114427860697\n",
            "\n",
            "=== Iteration 4 ===\n",
            "Validation Accuracy: 0.9608515244452462\n",
            "\n",
            "=== Iteration 5 ===\n",
            "Validation Accuracy: 0.9607633315498484\n",
            "\n",
            "=== Iteration 6 ===\n",
            "Validation Accuracy: 0.9632660483724313\n",
            "\n",
            "=== Iteration 7 ===\n",
            "Validation Accuracy: 0.9609704641350211\n",
            "\n",
            "=== Iteration 8 ===\n",
            "Validation Accuracy: 0.965425057921939\n",
            "\n",
            "=== Iteration 9 ===\n",
            "Validation Accuracy: 0.9585953878406709\n",
            "\n",
            "=== Iteration 10 ===\n",
            "Validation Accuracy: 0.9610662925289372\n",
            "\n",
            "=== Iteration 11 ===\n",
            "Validation Accuracy: 0.9609834313201496\n",
            "\n",
            "=== Iteration 12 ===\n",
            "Validation Accuracy: 0.9623889952986244\n",
            "\n",
            "=== Iteration 13 ===\n",
            "Validation Accuracy: 0.9610718812239725\n",
            "\n",
            "=== Iteration 14 ===\n",
            "Validation Accuracy: 0.9648691375373265\n",
            "\n",
            "=== Iteration 15 ===\n",
            "Validation Accuracy: 0.9653261840929401\n",
            "\n",
            "=== Iteration 16 ===\n",
            "Validation Accuracy: 0.9629695567028663\n",
            "\n",
            "=== Iteration 17 ===\n",
            "Validation Accuracy: 0.9618543529841211\n",
            "\n",
            "=== Iteration 18 ===\n",
            "Validation Accuracy: 0.9647862019403521\n",
            "\n",
            "=== Iteration 19 ===\n",
            "Validation Accuracy: 0.9612707478136713\n",
            "\n",
            "=== Iteration 20 ===\n",
            "Validation Accuracy: 0.9631728045325779\n",
            "\n",
            "=== Iteration 21 ===\n",
            "Validation Accuracy: 0.9593683463449255\n",
            "\n",
            "=== Iteration 22 ===\n",
            "Validation Accuracy: 0.9620049946485908\n",
            "\n",
            "=== Iteration 23 ===\n",
            "Validation Accuracy: 0.9640644361833953\n",
            "\n",
            "=== Iteration 24 ===\n",
            "Validation Accuracy: 0.9664381089859256\n",
            "\n",
            "=== Iteration 25 ===\n",
            "Validation Accuracy: 0.9553555673195694\n",
            "\n",
            "=== Iteration 26 ===\n",
            "Validation Accuracy: 0.9597327237559345\n",
            "\n",
            "=== Iteration 27 ===\n",
            "Validation Accuracy: 0.961872672459656\n",
            "\n",
            "=== Iteration 28 ===\n",
            "Validation Accuracy: 0.9630153955052203\n",
            "\n",
            "=== Iteration 29 ===\n",
            "Validation Accuracy: 0.9583041345480028\n",
            "\n",
            "=== Iteration 30 ===\n",
            "Validation Accuracy: 0.9607283113173867\n",
            "\n",
            "=== Iteration 31 ===\n",
            "Validation Accuracy: 0.9604956006464356\n",
            "\n",
            "=== Iteration 32 ===\n",
            "Validation Accuracy: 0.9618778679844687\n",
            "\n",
            "=== Iteration 33 ===\n",
            "Validation Accuracy: 0.9653825670157997\n",
            "\n",
            "=== Iteration 34 ===\n",
            "Validation Accuracy: 0.9582122093023255\n",
            "\n",
            "=== Iteration 35 ===\n",
            "Validation Accuracy: 0.9618830142279993\n",
            "\n",
            "=== Iteration 36 ===\n",
            "Validation Accuracy: 0.9623299616323683\n",
            "\n",
            "=== Iteration 37 ===\n",
            "Validation Accuracy: 0.9579463816365866\n",
            "\n",
            "=== Iteration 38 ===\n",
            "Validation Accuracy: 0.964373897707231\n",
            "\n",
            "=== Iteration 39 ===\n",
            "Validation Accuracy: 0.9546182594767753\n",
            "\n",
            "=== Iteration 40 ===\n",
            "Validation Accuracy: 0.9608617594254937\n",
            "\n",
            "=== Iteration 41 ===\n",
            "Validation Accuracy: 0.9648629655657063\n",
            "\n",
            "=== Iteration 42 ===\n"
          ]
        },
        {
          "output_type": "stream",
          "name": "stderr",
          "text": [
            "WARNING:googleapiclient.http:Sleeping 1.62 seconds before retry 1 of 5 for request: POST https://earthengine.googleapis.com/v1/projects/thandeka-skosana/value:compute?prettyPrint=false&alt=json, after 503\n"
          ]
        },
        {
          "output_type": "stream",
          "name": "stdout",
          "text": [
            "Validation Accuracy: 0.9586631486367634\n",
            "\n",
            "=== Iteration 43 ===\n",
            "Validation Accuracy: 0.9643864598025388\n",
            "\n",
            "=== Iteration 44 ===\n",
            "Validation Accuracy: 0.9608323133414932\n",
            "\n",
            "=== Iteration 45 ===\n",
            "Validation Accuracy: 0.9618425575799243\n",
            "\n",
            "=== Iteration 46 ===\n",
            "Validation Accuracy: 0.9635204533380556\n",
            "\n",
            "=== Iteration 47 ===\n",
            "Validation Accuracy: 0.9585152838427947\n",
            "\n",
            "=== Iteration 48 ===\n",
            "Validation Accuracy: 0.9596963672510392\n",
            "\n",
            "=== Iteration 49 ===\n",
            "Validation Accuracy: 0.9633783073418609\n",
            "\n",
            "=== Iteration 50 ===\n",
            "Validation Accuracy: 0.963707525351361\n"
          ]
        }
      ],
      "source": [
        "predictors = [\"B2\", \"B3\", \"B4\", \"B5\", \"B6\", \"B7\",\"B8\",\"B8A\", \"B11\", \"B12\", \"NDVI\", \"Chlogreen\", \"LAnthoC\", \"LChloC\", \"LCaroC\", \"BAI\", \"GI\", \"gNDVI\", \"MSI\",\n",
        "        \"NDrededgeSWIR\", \"NDTI\", \"NDVIre\", \"NDVI1\", \"NDVI2\", \"EVI\", \"EVI2\",\"Norm_G\", \"Norm_NIR\", \"Norm_Red\", \"RededgePeakArea\", \"RedSWIR1\", \"SRBlueRededge2\",\n",
        "        \"SRBlueRededge3\", \"SRNIRnarrowBlue\", \"SRNIRnarrowRed\",\"SRNIRnarrowRededge3\", \"STI\", \"WBI\", \"NDMI\", \"biome\", \"segments\"]\n",
        "\n",
        "#########Extract unique classes from your training data##########################################\n",
        "classes = trainDAT.aggregate_array(\"Id\").distinct().getInfo()\n",
        "\n",
        "#########Split training into 90% working, 10% test################################################\n",
        "held_out_test, working_set = [], []\n",
        "\n",
        "for class_value in classes:\n",
        "    class_fc = trainDAT.filter(ee.Filter.eq(\"Id\", class_value)).randomColumn(\"rand_holdout\", seed=999)\n",
        "    held_out_test.append(class_fc.filter(ee.Filter.gte(\"rand_holdout\", 0.9)))\n",
        "    working_set.append(class_fc.filter(ee.Filter.lt(\"rand_holdout\", 0.9)))\n",
        "\n",
        "testSet_fixed = ee.FeatureCollection(held_out_test).flatten()\n",
        "working_data = ee.FeatureCollection(working_set).flatten()\n",
        "\n",
        "### Export working and test subset to check\n",
        "\n",
        "# Export test set to Google Drive\n",
        "#test_export = ee.batch.Export.table.toDrive(\n",
        "    #collection=testSet_fixed,\n",
        "    #description='TestSet_fixed_Export',\n",
        "    #fileFormat='CSV'\n",
        "#)\n",
        "#test_export.start()\n",
        "\n",
        "# Export working set to Google Drive\n",
        "#working_export = ee.batch.Export.table.toDrive(\n",
        "    #collection=working_data,\n",
        "    #description='WorkingData_Export',\n",
        "    #fileFormat='CSV'\n",
        "#)\n",
        "#working_export.start()\n",
        "\n",
        "#print(\"Export started. Go to https://code.earthengine.google.com/tasks to monitor the progress.\")\n",
        "\n",
        "################ Run x number of iterations ##################################################################\n",
        "for i in range(50):\n",
        "    print(f\"\\n=== Iteration {i + 1} ===\")\n",
        "    trainList, valList = [], []\n",
        "\n",
        "    for class_value in classes:\n",
        "        class_fc = working_data.filter(ee.Filter.eq(\"Id\", class_value)).randomColumn(\"rand_iter\", seed=i + 200)\n",
        "        trainList.append(class_fc.filter(ee.Filter.lt(\"rand_iter\", 0.7778)))  # 70% of 90%\n",
        "        valList.append(class_fc.filter(ee.Filter.gte(\"rand_iter\", 0.7778)))  # 20% of 90%\n",
        "\n",
        "    trainSet = ee.FeatureCollection(trainList).flatten()\n",
        "    valSet = ee.FeatureCollection(valList).flatten()\n",
        "\n",
        "    training = image_indices.sampleRegions(\n",
        "        collection=trainSet,\n",
        "        properties=[\"Id\"],\n",
        "        scale=10,\n",
        "        #tileScale= 2\n",
        "    )\n",
        "\n",
        "    classifier = ee.Classifier.smileRandomForest(50).train(\n",
        "        features=training,\n",
        "        classProperty=\"Id\",\n",
        "        inputProperties=predictors\n",
        "    )\n",
        "\n",
        "    val = image_indices.sampleRegions(\n",
        "        collection=valSet,\n",
        "        properties=[\"Id\"],\n",
        "        scale=10,\n",
        "        #tileScale= 2\n",
        "    ).classify(classifier)\n",
        "\n",
        "    val_matrix = val.errorMatrix(\"Id\", \"classification\")\n",
        "    print(\"Validation Accuracy:\", val_matrix.accuracy().getInfo())\n",
        "\n",
        "###########Final test on 10% held-out samples#######################################################\n",
        "final_test_sample = image_indices.sampleRegions(\n",
        "    collection=testSet_fixed,\n",
        "    properties=[\"Id\"],\n",
        "    scale=10,\n",
        "    #tileScale= 2\n",
        ").classify(classifier)\n",
        "\n",
        "test_matrix = final_test_sample.errorMatrix(\"Id\", \"classification\")\n",
        "\n"
      ]
    },
    {
      "cell_type": "markdown",
      "id": "14c47994-a96c-459e-adbe-bfbc1ff3a3e5",
      "metadata": {
        "id": "14c47994-a96c-459e-adbe-bfbc1ff3a3e5"
      },
      "source": [
        "### Overall Accuracy"
      ]
    },
    {
      "cell_type": "code",
      "execution_count": null,
      "id": "d0cc45c9-dd28-4444-b66a-79392816efb4",
      "metadata": {
        "id": "d0cc45c9-dd28-4444-b66a-79392816efb4",
        "colab": {
          "base_uri": "https://localhost:8080/",
          "height": 54
        },
        "outputId": "d5c1394c-91e6-4eab-aec4-4f4218b563f3"
      },
      "outputs": [
        {
          "output_type": "display_data",
          "data": {
            "text/plain": [
              "<IPython.core.display.HTML object>"
            ],
            "text/html": [
              "\n",
              "            <style>\n",
              "                .geemap-dark {\n",
              "                    --jp-widgets-color: white;\n",
              "                    --jp-widgets-label-color: white;\n",
              "                    --jp-ui-font-color1: white;\n",
              "                    --jp-layout-color2: #454545;\n",
              "                    background-color: #383838;\n",
              "                }\n",
              "\n",
              "                .geemap-dark .jupyter-button {\n",
              "                    --jp-layout-color3: #383838;\n",
              "                }\n",
              "\n",
              "                .geemap-colab {\n",
              "                    background-color: var(--colab-primary-surface-color, white);\n",
              "                }\n",
              "\n",
              "                .geemap-colab .jupyter-button {\n",
              "                    --jp-layout-color3: var(--colab-primary-surface-color, white);\n",
              "                }\n",
              "            </style>\n",
              "            "
            ]
          },
          "metadata": {}
        },
        {
          "output_type": "stream",
          "name": "stdout",
          "text": [
            "The overall accuracy on the test dataset (held-out 10%) is: 0.9602577873254565\n",
            "The Kappa coefficient is: 0.9536325388085554\n"
          ]
        }
      ],
      "source": [
        "print(\"The overall accuracy on the test dataset (held-out 10%) is:\", test_matrix.accuracy().getInfo());\n",
        "print(\"The Kappa coefficient is:\", test_matrix.kappa().getInfo());\n"
      ]
    },
    {
      "cell_type": "markdown",
      "id": "764d1d8b-7b97-4b16-a8b3-c38d115c15f8",
      "metadata": {
        "id": "764d1d8b-7b97-4b16-a8b3-c38d115c15f8"
      },
      "source": [
        "### Accuracy of Alien vs Non-Alien Classes"
      ]
    },
    {
      "cell_type": "code",
      "execution_count": null,
      "id": "wex563tVDqdX",
      "metadata": {
        "id": "wex563tVDqdX",
        "colab": {
          "base_uri": "https://localhost:8080/",
          "height": 54
        },
        "outputId": "a708f773-535b-4012-87f0-d1867deb2193"
      },
      "outputs": [
        {
          "output_type": "display_data",
          "data": {
            "text/plain": [
              "<IPython.core.display.HTML object>"
            ],
            "text/html": [
              "\n",
              "            <style>\n",
              "                .geemap-dark {\n",
              "                    --jp-widgets-color: white;\n",
              "                    --jp-widgets-label-color: white;\n",
              "                    --jp-ui-font-color1: white;\n",
              "                    --jp-layout-color2: #454545;\n",
              "                    background-color: #383838;\n",
              "                }\n",
              "\n",
              "                .geemap-dark .jupyter-button {\n",
              "                    --jp-layout-color3: #383838;\n",
              "                }\n",
              "\n",
              "                .geemap-colab {\n",
              "                    background-color: var(--colab-primary-surface-color, white);\n",
              "                }\n",
              "\n",
              "                .geemap-colab .jupyter-button {\n",
              "                    --jp-layout-color3: var(--colab-primary-surface-color, white);\n",
              "                }\n",
              "            </style>\n",
              "            "
            ]
          },
          "metadata": {}
        },
        {
          "output_type": "stream",
          "name": "stdout",
          "text": [
            "Overall Accuracy (Alien vs Non-Alien): 0.9853204439670605\n",
            "Kappa Coefficient (Alien vs Non-Alien): 0.948562126528194\n"
          ]
        }
      ],
      "source": [
        "# Remap Ids: 1 = Alien (1–5), 0 = Non-Alien (7–23)\n",
        "def remap_binary(feature):\n",
        "    id_val = feature.getNumber('Id')\n",
        "    class_val = feature.getNumber('classification')\n",
        "\n",
        "    binary_id = ee.Number(id_val).lte(5).int()\n",
        "    binary_class = ee.Number(class_val).lte(5).int()\n",
        "\n",
        "    return feature.set('binary_id', binary_id).set('binary_classification', binary_class)\n",
        "\n",
        "# Apply the remapping\n",
        "binary_test_sample = final_test_sample.map(remap_binary)\n",
        "\n",
        "# Compute confusion matrix\n",
        "binary_matrix = binary_test_sample.errorMatrix('binary_id', 'binary_classification')\n",
        "\n",
        "# Print overall accuracy and kappa coefficient\n",
        "print('Overall Accuracy (Alien vs Non-Alien):', binary_matrix.accuracy().getInfo())\n",
        "print('Kappa Coefficient (Alien vs Non-Alien):', binary_matrix.kappa().getInfo())\n",
        "#print('Confusion Matrix:')\n",
        "#print(binary_matrix.getInfo())\n"
      ]
    },
    {
      "cell_type": "markdown",
      "id": "e05e742f-8ba4-4275-8de7-23f2d84cfc18",
      "metadata": {
        "id": "e05e742f-8ba4-4275-8de7-23f2d84cfc18"
      },
      "source": [
        "### Accuracy between the alien classes"
      ]
    },
    {
      "cell_type": "code",
      "execution_count": null,
      "id": "b8xgk36qEQz5",
      "metadata": {
        "id": "b8xgk36qEQz5",
        "colab": {
          "base_uri": "https://localhost:8080/",
          "height": 111
        },
        "outputId": "4078a499-9a5c-4aa6-c76b-fab6201c10ce"
      },
      "outputs": [
        {
          "output_type": "display_data",
          "data": {
            "text/plain": [
              "<IPython.core.display.HTML object>"
            ],
            "text/html": [
              "\n",
              "            <style>\n",
              "                .geemap-dark {\n",
              "                    --jp-widgets-color: white;\n",
              "                    --jp-widgets-label-color: white;\n",
              "                    --jp-ui-font-color1: white;\n",
              "                    --jp-layout-color2: #454545;\n",
              "                    background-color: #383838;\n",
              "                }\n",
              "\n",
              "                .geemap-dark .jupyter-button {\n",
              "                    --jp-layout-color3: #383838;\n",
              "                }\n",
              "\n",
              "                .geemap-colab {\n",
              "                    background-color: var(--colab-primary-surface-color, white);\n",
              "                }\n",
              "\n",
              "                .geemap-colab .jupyter-button {\n",
              "                    --jp-layout-color3: var(--colab-primary-surface-color, white);\n",
              "                }\n",
              "            </style>\n",
              "            "
            ]
          },
          "metadata": {}
        },
        {
          "output_type": "stream",
          "name": "stdout",
          "text": [
            "Overall Accuracy (Alien classes 1–5): 0.9127789046653144\n",
            "Kappa Coefficient (Alien classes 1–5): 0.8626660879367198\n",
            "Confusion Matrix (Alien classes 1–5):\n",
            "[[0, 0, 0, 0, 0, 0, 0, 0, 0, 0, 0, 0, 0, 0, 0, 0, 0], [0, 117, 0, 0, 0, 0, 0, 1, 2, 0, 0, 0, 0, 0, 0, 0, 4], [0, 0, 33, 1, 3, 0, 1, 0, 0, 0, 0, 0, 0, 0, 0, 1, 10], [0, 0, 1, 37, 5, 1, 2, 0, 1, 0, 0, 0, 0, 0, 0, 1, 5], [0, 0, 0, 0, 260, 0, 0, 0, 0, 0, 0, 0, 0, 0, 0, 0, 3], [0, 0, 0, 0, 0, 3, 0, 0, 0, 0, 0, 0, 0, 0, 0, 0, 1], [0, 0, 0, 0, 0, 0, 0, 0, 0, 0, 0, 0, 0, 0, 0, 0, 0], [0, 0, 0, 0, 0, 0, 0, 0, 0, 0, 0, 0, 0, 0, 0, 0, 0], [0, 0, 0, 0, 0, 0, 0, 0, 0, 0, 0, 0, 0, 0, 0, 0, 0], [0, 0, 0, 0, 0, 0, 0, 0, 0, 0, 0, 0, 0, 0, 0, 0, 0], [0, 0, 0, 0, 0, 0, 0, 0, 0, 0, 0, 0, 0, 0, 0, 0, 0], [0, 0, 0, 0, 0, 0, 0, 0, 0, 0, 0, 0, 0, 0, 0, 0, 0], [0, 0, 0, 0, 0, 0, 0, 0, 0, 0, 0, 0, 0, 0, 0, 0, 0], [0, 0, 0, 0, 0, 0, 0, 0, 0, 0, 0, 0, 0, 0, 0, 0, 0], [0, 0, 0, 0, 0, 0, 0, 0, 0, 0, 0, 0, 0, 0, 0, 0, 0], [0, 0, 0, 0, 0, 0, 0, 0, 0, 0, 0, 0, 0, 0, 0, 0, 0], [0, 0, 0, 0, 0, 0, 0, 0, 0, 0, 0, 0, 0, 0, 0, 0, 0]]\n"
          ]
        }
      ],
      "source": [
        "# Filter to include only alien classes 1–5\n",
        "filtered_aliens = final_test_sample.filter(ee.Filter.lte('Id', 5))\n",
        "\n",
        "# Compute the confusion matrix using original classes (1–5)\n",
        "alien_matrix = filtered_aliens.errorMatrix('Id', 'classification')\n",
        "\n",
        "# Print accuracy metrics\n",
        "print('Overall Accuracy (Alien classes 1–5):', alien_matrix.accuracy().getInfo())\n",
        "print('Kappa Coefficient (Alien classes 1–5):', alien_matrix.kappa().getInfo())\n",
        "print('Confusion Matrix (Alien classes 1–5):')\n",
        "print(alien_matrix.getInfo())"
      ]
    },
    {
      "cell_type": "markdown",
      "id": "218e36d3-4167-4144-aabd-4336fb943619",
      "metadata": {
        "id": "218e36d3-4167-4144-aabd-4336fb943619"
      },
      "source": [
        "### Apply the classifier and visualize the results"
      ]
    },
    {
      "cell_type": "code",
      "execution_count": null,
      "id": "f993b159-7e19-4d93-9b9f-4478f60ea961",
      "metadata": {
        "id": "f993b159-7e19-4d93-9b9f-4478f60ea961",
        "colab": {
          "base_uri": "https://localhost:8080/",
          "height": 621,
          "referenced_widgets": [
            "f15dc705fa134e6b899769a627a5f859",
            "f7cbebd4711a4bb48d114ce37d43feba",
            "e712b739111c404db08c67e7a67e6b33",
            "bbf0a634dc4448848970287feee70b5e",
            "f0ad39b0044a46b39f29987abe3dca83",
            "e5af8efdfd634393a54d1587014afd64",
            "4fbbea8959a44a54b52527b66fbbfb12",
            "e4d6d084d9244c9d9424e4d252882420",
            "ec6da3df79a34767ba8fa66044ec1cdf",
            "1fe0d0ebe3f14e1480600e7dccdb06b8",
            "1203e21aecc34d6bb7b9ac2c076ef7c1",
            "f248a2ccdc2944e3ac6afc05f65c1553",
            "fdaf770a18cb493995d7a85edff34f1b",
            "d6ac46dbdca2449ca1e0d2b83615b54f",
            "2d382eab3c0e4ac4b3cae3f93798e77a",
            "b672dd32a8fa4527af8c72817e763b1f",
            "0d20e34556f14d5586c0d170e6c0211e",
            "962cfed75e094996928f3b957b03eed8",
            "742efec3188043b7801c79fc6a45c2aa",
            "ef66135b1d3a427fb32213aac50603e1",
            "10581cac83fb4d95a98024ac601136a5",
            "2ef5f3d1bf1e414492c3d0cacf658d6c",
            "8e2f1fc2db4d4dda9f6781202d23aede",
            "d319ce32dea84dd5b8de4739c4ff85cb",
            "054ba3ecee2f4c96b86c05154c218e93",
            "835c56696b844668ae2032d4937bb0ad",
            "0af05a8a54f44ae69a51d46c8a021bd3",
            "3606436d284a43649c2e345a6d199b07",
            "7e093f030ac846f9bda5c218da254fab",
            "39270880ce3247e68201e6ad411bf2ff",
            "2c67948fb7334d8089f4366e40826d30",
            "16f34997b08d47ca858878040a847591",
            "629f60d5274549d780a476e625ce7d51",
            "081f18518d31408fb8659d0cfec91bff",
            "9edcaa8c7cac4e24bb15f11204f0ecf0",
            "8f35828d2fa949718411e984fd1fa02b",
            "67f1e3f6259c404db4df3da55ab3410a",
            "d9a9be7f5830412ebce5771adead51b8",
            "e060c9e6f551485cad11c7574fc1c3a4",
            "58f24c4aa96d418eb32969e906899ce6",
            "026bbd096d844fc589bed2e752411ff2",
            "b49f3e5207e24c95a487f10a31226a26",
            "86bc9761c2af4bb3abd37ccd22df9dfe",
            "78595a4911de4206a2e453f1cbccedbb",
            "d52188e2edc4410ab02d4c17bec43fc4",
            "a4880bcffc894dbf96b08b522402cf25",
            "256a94e9d1eb4ff58f480f4918c09ff2",
            "73247757ef9d48f6b6e4912f7a84c69a",
            "4fc7f1ccf5c2414788ebadf97385e53c",
            "553cf490bde4482690af17a5115cb1da",
            "1f9ac28405ce4598ba02d72d5775448e",
            "0c6991fea7824aacb746d2c01a36f748",
            "4abd6787559541f4a2828837ea2e74f3",
            "2676efb3cc074509b3b20f57e9b1178f",
            "dc85a8f0465b429ebc58b5e8f2e56157",
            "c4dca7e8a20544e9ae2dfdd39140f5d5",
            "6316aedb4618461fb9c861bfbe0a7245",
            "7559d2866c1f462389c0776854de7dbf",
            "96d8d9e94c1042f2ad527812a3060adb",
            "ab8fa0ff6be14ac28c8c219908a9edaa",
            "febfb1e59a864f07ace90d73c224ef32",
            "50fe16a9ea8b41b39085e93495d7e79f",
            "c2fb29e579d843d2ba3baacfcf5e659f",
            "642e949dafd64f34961dbb9de4256eb8",
            "eeb54905311b43f7a6506ffeff93cb14",
            "61b329675aed4c7989291327545615cc",
            "2296433137b0442393f0ac262c27a3a2",
            "3ce7bad45d0b43fe9bc6df8c52ef3da8",
            "54008efb2a1b47c8a83bc1ba8b777de4",
            "790401a8f28d44d0833c292f40cc4ad9",
            "fc002086b991487980cae865a8ac7a76",
            "7e41b73b14f24745b58bbc218a60f3a9",
            "1610c9e03e6349aaa340d3fa17675391",
            "31567716b9654417934a03fa6e32969b",
            "1f4232a036da46da9c55838bf1ca1dca",
            "1bee319467284520bc3269a8f43a19cd",
            "f0e823b80f214e9ea4dcc39d310dc411",
            "8352e0affd584164acee2db56e3cd9fe",
            "7884f79981494f76a8585c83fde10de0",
            "5f91dee4149d4ed88ddae7b411e88934",
            "86ce876b8f004282a9975f201ee5956c",
            "8e2566c9c80241a595513b083e17e45c",
            "571deb9ee4eb40c2a0f30cd837630532",
            "9f74eaea314845e8bc41aea372bb19b0",
            "1490532a071b4bf0ba7b05b80aaf0e1c",
            "075766e337f341a6a6a38e75c1fa92e1",
            "614b6bb4fb434ff98eea8af3f5e971bd",
            "36702050b47645cb829ecf2ff9cd4c32",
            "2955a4f935724cbbba26c8bf2d0c62e6",
            "6112bdba4de54c3e998c2ed0d59f2e53",
            "9745593825cf43d29184f53f8e0de4e2",
            "b046af607820425bbc57ffed7d79ee06",
            "307efa10d238480982cbae854159584f",
            "f7d1f5026a2b4ff4b5cdfcb7019a8ff2",
            "2d4a4e6f8db94a01b7805a5d3e1f2bdd",
            "b43b5261262d4ae085ea8594bee8f00f",
            "0ff8cdfa756c4fcd8f42e33c0f4f3ba6",
            "829341c2a1384ba9954f2823b234f660",
            "ca3a7576acb049e993a64415f5346a1c",
            "fe9c260003be4d8591838cd8bd7cc1d2",
            "645cf051b6d341cfa0d9f481705df3ca",
            "8bf14963e662430d9f16fded9b7a15d5",
            "6e02a0eb8b774ace9c6971572c3cfa96",
            "337f9d481df248c2823b507659d5a77a",
            "facad7bb06304fa68b3ca68662de22e9",
            "920dd0fe6c9e4d72bf3eed0cb1029967",
            "2ce4b0f28a834678849c102538a6c725"
          ]
        },
        "outputId": "45b13b47-f50a-494f-e2c6-a3523398425f"
      },
      "outputs": [
        {
          "output_type": "display_data",
          "data": {
            "text/plain": [
              "<IPython.core.display.HTML object>"
            ],
            "text/html": [
              "\n",
              "            <style>\n",
              "                .geemap-dark {\n",
              "                    --jp-widgets-color: white;\n",
              "                    --jp-widgets-label-color: white;\n",
              "                    --jp-ui-font-color1: white;\n",
              "                    --jp-layout-color2: #454545;\n",
              "                    background-color: #383838;\n",
              "                }\n",
              "\n",
              "                .geemap-dark .jupyter-button {\n",
              "                    --jp-layout-color3: #383838;\n",
              "                }\n",
              "\n",
              "                .geemap-colab {\n",
              "                    background-color: var(--colab-primary-surface-color, white);\n",
              "                }\n",
              "\n",
              "                .geemap-colab .jupyter-button {\n",
              "                    --jp-layout-color3: var(--colab-primary-surface-color, white);\n",
              "                }\n",
              "            </style>\n",
              "            "
            ]
          },
          "metadata": {}
        },
        {
          "output_type": "display_data",
          "data": {
            "text/plain": [
              "Map(center=[-31.69446269213873, 19.289755343477697], controls=(WidgetControl(options=['position', 'transparent…"
            ],
            "application/vnd.jupyter.widget-view+json": {
              "version_major": 2,
              "version_minor": 0,
              "model_id": "f15dc705fa134e6b899769a627a5f859"
            }
          },
          "metadata": {
            "application/vnd.jupyter.widget-view+json": {
              "colab": {
                "custom_widget_manager": {
                  "url": "https://ssl.gstatic.com/colaboratory-static/widgets/colab-cdn-widget-manager/2b70e893a8ba7c0f/manager.min.js"
                }
              }
            }
          }
        }
      ],
      "source": [
        "########Classify the image###################################################################\n",
        "classified = image_indices.classify(classifier)\n",
        "\n",
        "#########Define a color palette for the 23 classes###########################################\n",
        "palette = [\n",
        "    '#ff7f00', '#9900FF', '#F91DF9', '#fd0618', '#741b47', '#14870e', '#6aa84f', '#C7E88C',\n",
        "    '#a8a800', '#526529', '#90EE90','#00FF00','#08f3e4', '#4d9592', '#26D4A2', '#ffff00', '#CC5500', '#ffffff',\n",
        "    '#0a14f9', '#000000','#783f04', '#b7b7b7','#828282'\n",
        "]\n",
        "\n",
        "#########Define class names for legend#######################################################\n",
        "class_names = [\n",
        "    \"Prosopis\", \"Wattle\", \"Gum\", \"Pine\", \"Other\", \"Riparian trees\", \"Succulent karoo\",\"Riparian bush\",\n",
        "    \"Fynbos high density\", \"Fynbos low density\", \"Renosterveld\",\"Bushmanland shrubland\", \"Wetland palmiet\", \"Wetland reeds\", \"Wetland other\", \"Agriculture irrigated\", \"Agriculture dryland\"\n",
        "    , \"Bare ground\", \"Water\",\"Urban\",\"Rock\", \"Shade\", \"Burnt\"\n",
        "]\n",
        "\n",
        "#########Visualize the classification results#################################################\n",
        "Map = geemap.Map(zoom=11, basemap='SATELLITE')\n",
        "Map.centerObject(aoi, 11)\n",
        "Map.addLayer(image, {'bands': ['B4', 'B3', 'B2'], 'min': 0, 'max': 3000}, 'Sentinel-2 RGB')\n",
        "Map.addLayer(classified, {'min': 1, 'max': 23, 'palette': palette}, 'Olifantsfontein Land Cover')\n",
        "\n",
        "#########Add a legend########################################################################\n",
        "def add_legend(map_object, class_names, palette):\n",
        "    legend_dict = {name: color for name, color in zip(class_names, palette)}\n",
        "    map_object.add_legend(title=\"Land Cover Classification\", legend_dict=legend_dict)\n",
        "\n",
        "add_legend(Map, class_names, palette)\n",
        "#######Display the map######################################################################\n",
        "Map\n"
      ]
    },
    {
      "cell_type": "markdown",
      "source": [
        "### Export the classification as an Asset to GEE"
      ],
      "metadata": {
        "id": "GsvXaOCaeVyI"
      },
      "id": "GsvXaOCaeVyI"
    },
    {
      "cell_type": "code",
      "execution_count": null,
      "id": "9be1371d-1fac-4be6-9ef2-6dde97c0b2e9",
      "metadata": {
        "id": "9be1371d-1fac-4be6-9ef2-6dde97c0b2e9",
        "colab": {
          "base_uri": "https://localhost:8080/",
          "height": 17
        },
        "outputId": "6f958847-6f47-4127-f631-ac643cbbe76b"
      },
      "outputs": [
        {
          "output_type": "display_data",
          "data": {
            "text/plain": [
              "<IPython.core.display.HTML object>"
            ],
            "text/html": [
              "\n",
              "            <style>\n",
              "                .geemap-dark {\n",
              "                    --jp-widgets-color: white;\n",
              "                    --jp-widgets-label-color: white;\n",
              "                    --jp-ui-font-color1: white;\n",
              "                    --jp-layout-color2: #454545;\n",
              "                    background-color: #383838;\n",
              "                }\n",
              "\n",
              "                .geemap-dark .jupyter-button {\n",
              "                    --jp-layout-color3: #383838;\n",
              "                }\n",
              "\n",
              "                .geemap-colab {\n",
              "                    background-color: var(--colab-primary-surface-color, white);\n",
              "                }\n",
              "\n",
              "                .geemap-colab .jupyter-button {\n",
              "                    --jp-layout-color3: var(--colab-primary-surface-color, white);\n",
              "                }\n",
              "            </style>\n",
              "            "
            ]
          },
          "metadata": {}
        }
      ],
      "source": [
        "# Convert the FeatureCollection to a Geometry\n",
        "ROI = aoi.geometry()\n",
        "task = ee.batch.Export.image.toAsset(\n",
        "    image=classified,\n",
        "    description='classified_export',\n",
        "    assetId='projects/olifantsdoringproject/assets/20250605_oli_class',  # Replace with your actual asset path\n",
        "    region=aoi.geometry(),  # Ensure 'aoi' is defined as ee.FeatureCollection or ee.Geometry\n",
        "    scale=10,\n",
        "    maxPixels=1e13\n",
        ")\n",
        "task.start()"
      ]
    }
  ],
  "metadata": {
    "colab": {
      "provenance": [],
      "include_colab_link": true
    },
    "kernelspec": {
      "display_name": "Python 3 (ipykernel)",
      "language": "python",
      "name": "python3"
    },
    "language_info": {
      "codemirror_mode": {
        "name": "ipython",
        "version": 3
      },
      "file_extension": ".py",
      "mimetype": "text/x-python",
      "name": "python",
      "nbconvert_exporter": "python",
      "pygments_lexer": "ipython3",
      "version": "3.13.2"
    }
  },
  "nbformat": 4,
  "nbformat_minor": 5
}